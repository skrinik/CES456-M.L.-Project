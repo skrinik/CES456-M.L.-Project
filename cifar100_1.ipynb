{
 "cells": [
  {
   "cell_type": "markdown",
   "metadata": {},
   "source": [
    "# Convolutional Neural Networks on CIFAR100\n",
    "## Comparing AlexNet to VGG19 A Brief Analysis.\n",
    "### By: Luis Cervantes & Sean Krinik"
   ]
  },
  {
   "cell_type": "markdown",
   "metadata": {},
   "source": [
    "#### Sources: \n",
    "**CIFAR100 Dataset:** [CIFAR Datasets](https://www.cs.toronto.edu/~kriz/cifar.html) - Data source of train and test images <br>\n",
    "**Keras.io:** [Keras.io](https://keras.io/) - All model implementation and documentation on models."
   ]
  },
  {
   "cell_type": "markdown",
   "metadata": {},
   "source": [
    "To begin, we will import the necessary modules for preprocessing and model fitting."
   ]
  },
  {
   "cell_type": "code",
   "execution_count": 1,
   "metadata": {
    "collapsed": false
   },
   "outputs": [
    {
     "name": "stderr",
     "output_type": "stream",
     "text": [
      "Using TensorFlow backend.\n"
     ]
    }
   ],
   "source": [
    "import numpy as np\n",
    "import cv2, time, glob, os\n",
    "import matplotlib.pyplot as plt\n",
    "%matplotlib inline\n",
    "import concurrent.futures\n",
    "\n",
    "from keras.datasets import cifar100\n",
    "from keras.models import Sequential\n",
    "from keras.layers import Dense, Dropout, Activation, Flatten\n",
    "from keras.layers.normalization import BatchNormalization\n",
    "from keras.layers import Conv2D, MaxPooling2D, ZeroPadding2D, GlobalAveragePooling2D\n",
    "from keras.preprocessing.image import ImageDataGenerator\n",
    "from keras.callbacks import EarlyStopping, ModelCheckpoint\n",
    "from keras.utils import np_utils\n",
    "from keras.optimizers import SGD, Adam\n",
    "from keras.models import load_model\n",
    "import h5py"
   ]
  },
  {
   "cell_type": "code",
   "execution_count": 2,
   "metadata": {
    "collapsed": true
   },
   "outputs": [],
   "source": [
    "# Paths \n",
    "models_alexnet = './models_alexnet/'\n",
    "models_vgg = './models_vgg/'"
   ]
  },
  {
   "cell_type": "code",
   "execution_count": 3,
   "metadata": {
    "collapsed": true
   },
   "outputs": [],
   "source": [
    "# Plot Loss Function:\n",
    "def plot_loss_accuracy(history, modelname):\n",
    "    fig = plt.figure(figsize=(12, 6))\n",
    "    ax = fig.add_subplot(1, 2, 1)\n",
    "    ax.plot(history.history[\"loss\"],'r-x', label=\"Train Loss\")\n",
    "    ax.plot(history.history[\"val_loss\"],'b-x', label=\"Validation Loss\")\n",
    "    ax.legend()\n",
    "    ax.set_title(modelname + ' Cross Entropy Loss')\n",
    "    ax.grid(True)\n",
    "\n",
    "\n",
    "    ax = fig.add_subplot(1, 2, 2)\n",
    "    ax.plot(history.history[\"acc\"],'r-x', label=\"Train Accuracy\")\n",
    "    ax.plot(history.history[\"val_acc\"],'b-x', label=\"Validation Accuracy\")\n",
    "    ax.legend()\n",
    "    ax.set_title(modelname + ' Accuracy')\n",
    "    ax.grid(True)"
   ]
  },
  {
   "cell_type": "markdown",
   "metadata": {},
   "source": [
    "Load the CIFAR100 data"
   ]
  },
  {
   "cell_type": "code",
   "execution_count": 4,
   "metadata": {
    "collapsed": false
   },
   "outputs": [],
   "source": [
    "(x_train, y_train), (x_test, y_test) = cifar100.load_data()"
   ]
  },
  {
   "cell_type": "code",
   "execution_count": 5,
   "metadata": {
    "collapsed": false
   },
   "outputs": [
    {
     "name": "stdout",
     "output_type": "stream",
     "text": [
      "('Training Shape: ', (50000, 32, 32, 3))\n",
      "('Test Shape: ', (10000, 32, 32, 3))\n"
     ]
    }
   ],
   "source": [
    "print('Training Shape: ', x_train.shape) \n",
    "print('Test Shape: ', x_test.shape)"
   ]
  },
  {
   "cell_type": "markdown",
   "metadata": {},
   "source": [
    "We get 50,000 images to train on, and 10,000 for evaluation. We will begin preprocessing the images for keras, and implement data augmentation.\n",
    "\n",
    "The images are 32x32 pixels and 3 channels. This is the minimum size for VGG19, so we provide an implementation of vanilla VGG19 from scratch with no initial weights, and an ammended version with fewer max pooling layers (thus more parameters, but this may help accuracy since we retain more detail)"
   ]
  },
  {
   "cell_type": "code",
   "execution_count": 6,
   "metadata": {
    "collapsed": false
   },
   "outputs": [],
   "source": [
    "# Set up the encoded labels for keras:\n",
    "number_of_classes = 100\n",
    "y_train = np_utils.to_categorical(y_train, number_of_classes)\n",
    "y_test = np_utils.to_categorical(y_test, number_of_classes)"
   ]
  },
  {
   "cell_type": "markdown",
   "metadata": {},
   "source": [
    "A function to resize images using interpolation methods so we don't loose TOO much resolution in upsampling..."
   ]
  },
  {
   "cell_type": "code",
   "execution_count": 7,
   "metadata": {
    "collapsed": false
   },
   "outputs": [],
   "source": [
    "# we want 128x128 so we need a 400% increase\n",
    "scale = 400\n",
    "width = int((x_train.shape[1] * scale)/100)\n",
    "height = width\n",
    "dim = (width,height)"
   ]
  },
  {
   "cell_type": "code",
   "execution_count": 8,
   "metadata": {
    "collapsed": true
   },
   "outputs": [],
   "source": [
    "def resizeImg(img):\n",
    "    img = cv2.resize(img, dim, interpolation = cv2.INTER_LINEAR)\n",
    "    return img"
   ]
  },
  {
   "cell_type": "code",
   "execution_count": 9,
   "metadata": {
    "collapsed": false
   },
   "outputs": [],
   "source": [
    "x_train_128 = []\n",
    "x_test_128 = []\n",
    "with concurrent.futures.ProcessPoolExecutor() as executor:\n",
    "    for img in executor.map(resizeImg, x_train):\n",
    "        x_train_128.append(img)\n",
    "    for img in executor.map(resizeImg, x_test):\n",
    "        x_test_128.append(img)\n",
    "    x_train_128 = np.array(x_train_128)\n",
    "    x_test_128 = np.array(x_test_128)"
   ]
  },
  {
   "cell_type": "code",
   "execution_count": 10,
   "metadata": {
    "collapsed": false
   },
   "outputs": [
    {
     "name": "stdout",
     "output_type": "stream",
     "text": [
      "(50000, 128, 128, 3)\n",
      "(10000, 128, 128, 3)\n"
     ]
    }
   ],
   "source": [
    "print(x_train_128.shape)\n",
    "print(x_test_128.shape)"
   ]
  },
  {
   "cell_type": "code",
   "execution_count": 11,
   "metadata": {
    "collapsed": true
   },
   "outputs": [],
   "source": [
    "datagen = ImageDataGenerator(rescale=1./255.,\n",
    "                             validation_split=0.2,\n",
    "                             rotation_range=15,\n",
    "                             width_shift_range=0.05,\n",
    "                             shear_range=0.25,\n",
    "                             height_shift_range=0.05,\n",
    "                             zoom_range=0.05)"
   ]
  },
  {
   "cell_type": "code",
   "execution_count": 12,
   "metadata": {
    "collapsed": false
   },
   "outputs": [],
   "source": [
    "# batches differ due to GPU memory: \n",
    "batch_size = 64\n",
    "batch_size_128 = 32\n",
    "\n",
    "# train:\n",
    "train_gen = datagen.flow(x_train,\n",
    "                            y_train,\n",
    "                            subset= \"training\",\n",
    "                            shuffle = True,\n",
    "                            batch_size=batch_size)\n",
    "train_gen_128 = datagen.flow(x_train_128,\n",
    "                            y_train,\n",
    "                            subset= \"training\",\n",
    "                            shuffle = True,\n",
    "                            batch_size=batch_size_128)\n",
    "# validation:\n",
    "val_gen = datagen.flow(x_train,\n",
    "                            y_train,\n",
    "                            subset = \"validation\",\n",
    "                            shuffle = False,\n",
    "                            batch_size=batch_size)\n",
    "val_gen_128 = datagen.flow(x_train_128,\n",
    "                            y_train,\n",
    "                            subset = \"validation\",\n",
    "                            shuffle = False,\n",
    "                            batch_size=batch_size_128)"
   ]
  },
  {
   "cell_type": "markdown",
   "metadata": {},
   "source": [
    "### AlexNet Architecture"
   ]
  },
  {
   "cell_type": "markdown",
   "metadata": {},
   "source": [
    "To begin, we will build an AlexNet model to fit our application. We implement the semi-vanilla AlexNet architecture, close to the structure presented in the paper except for a few changes in filter size since our stock images are smaller. \n",
    "\n",
    "Note, the first convolutional layer uses a filter size of 5 instead of 11, with stride 3. This will give us an output size of 10 using the formula: \n",
    "\n",
    "$$\\left[\\frac{\\text{Dimension} - \\text{Filter}}{\\text{Stride}}\\right] +1$$\n",
    "\n",
    "The original implementation of AlexNet used 227x227 images, filter size 11 and stride 4, making the output 55. This is around a 75% decrease in size from the original input dimension. We emulate that decrease with a filter size 5 and stride 3, yeilding 69% decrease in size. We will also follow a similar trend throughout the rest of the model where larger filters are applied. \n",
    "\n",
    "We also use the Nadam optimizer which is a Nesterov momentum implementation of the Adam optimizer. This optimizer allow for a variable change in momentum over each step to control the learning rate if it speeds up or slows down too drastically. \n",
    "\n",
    "The AlexNet paper is not as concise in explaining the ConvNet and its architecture since they seem to have written more about their seperable GPU implementation to split the computation across 2 GPU's and merge at certain points in the training process. This is not as common now since parallel computing functions exist in Keras (and so is normalization but we left the layers in there). The reference paper is found here: \n",
    "\n",
    "[ImageNet Classification with Deep Convolutional Neural Networks](https://papers.nips.cc/paper/4824-imagenet-classification-with-deep-convolutional-neural-networks.pdf)"
   ]
  },
  {
   "cell_type": "code",
   "execution_count": 17,
   "metadata": {
    "collapsed": true
   },
   "outputs": [],
   "source": [
    "def create_alexnet(num_classes, imagedim):\n",
    "    m_alexnet = Sequential()\n",
    "    # Block 1\n",
    "    m_alexnet.add(Conv2D(96, kernel_size=(5, 5),\n",
    "                     strides = 3,\n",
    "                     kernel_initializer='glorot_normal',\n",
    "                     input_shape=[imagedim,imagedim,3]))\n",
    "    m_alexnet.add(BatchNormalization())\n",
    "    m_alexnet.add(Activation('relu'))\n",
    "    m_alexnet.add(MaxPooling2D(pool_size=(2, 2), \n",
    "                               strides=2))\n",
    "\n",
    "    # Block 2\n",
    "    m_alexnet.add(ZeroPadding2D(padding=(1, 1)))\n",
    "    m_alexnet.add(Conv2D(256, kernel_size=(3, 3),\n",
    "                     padding = 'same'))\n",
    "    m_alexnet.add(BatchNormalization())\n",
    "    m_alexnet.add(Activation('relu'))\n",
    "    m_alexnet.add(MaxPooling2D(pool_size=(2, 2)))\n",
    "\n",
    "    # Block 3 \n",
    "    m_alexnet.add(ZeroPadding2D(padding=(1, 1)))\n",
    "    m_alexnet.add(Conv2D(384, kernel_size=(3, 3),\n",
    "                     padding = 'same'))\n",
    "    m_alexnet.add(BatchNormalization())\n",
    "    m_alexnet.add(Activation('relu'))\n",
    "    \n",
    "    m_alexnet.add(ZeroPadding2D(padding=(1, 1)))\n",
    "    m_alexnet.add(Conv2D(384, kernel_size=(3, 3),\n",
    "                     padding = 'same'))\n",
    "    m_alexnet.add(BatchNormalization())\n",
    "    m_alexnet.add(Activation('relu'))\n",
    "    \n",
    "    m_alexnet.add(ZeroPadding2D(padding=(1, 1)))\n",
    "    m_alexnet.add(Conv2D(384, kernel_size=(3, 3),\n",
    "                     padding = 'same'))\n",
    "    m_alexnet.add(BatchNormalization())\n",
    "    m_alexnet.add(Activation('relu'))\n",
    "    m_alexnet.add(MaxPooling2D(pool_size=(2, 2)))\n",
    "\n",
    "    # Fully Connected 1\n",
    "    m_alexnet.add(Flatten())\n",
    "    m_alexnet.add(Dense(4096))\n",
    "    m_alexnet.add(BatchNormalization())\n",
    "    m_alexnet.add(Activation('relu'))\n",
    "    m_alexnet.add(Dropout(rate=.5))\n",
    "\n",
    "    # Fully Connected 2\n",
    "    m_alexnet.add(Dense(4096))\n",
    "    m_alexnet.add(BatchNormalization())\n",
    "    m_alexnet.add(Activation('relu'))\n",
    "    m_alexnet.add(Dropout(rate=.5))\n",
    "    \n",
    "    # Fully Connected Classification\n",
    "    m_alexnet.add(Dense(num_classes))\n",
    "    m_alexnet.add(BatchNormalization())\n",
    "    m_alexnet.add(Activation('softmax'))\n",
    "    \n",
    "    m_alexnet.summary()\n",
    "    \n",
    "    m_alexnet.compile(loss='categorical_crossentropy',\n",
    "              optimizer=Adam(),\n",
    "              metrics=['accuracy', 'top_k_categorical_accuracy'])\n",
    "    return m_alexnet"
   ]
  },
  {
   "cell_type": "code",
   "execution_count": 18,
   "metadata": {
    "collapsed": true
   },
   "outputs": [],
   "source": [
    "def train_alexnet(train_gen, val_gen, n_epochs, n_classes, imgdim, callbacks_bool):\n",
    "    start = time.time()\n",
    "    if callbacks_bool:\n",
    "        callbacks_list = [\n",
    "            #ModelCheckpoint(top_model_path, monitor='val_acc', verbose=1, save_best_only=True),\n",
    "            EarlyStopping(monitor='val_loss', patience=4, verbose=1)\n",
    "        ]\n",
    "    else:\n",
    "        callbacks_list = []\n",
    "        \n",
    "    # create model:    \n",
    "    m_alexnet = create_alexnet(n_classes, imgdim)\n",
    "    \n",
    "    # Begin training:\n",
    "    steps_train_data = train_gen.n//train_gen.batch_size\n",
    "    steps_val_data = val_gen.n//val_gen.batch_size\n",
    "    trained_alexnet = m_alexnet.fit_generator(train_gen,\n",
    "                                       steps_per_epoch=steps_train_data,\n",
    "                                       epochs=n_epochs,\n",
    "                                       validation_data = val_gen,\n",
    "                                       validation_steps = steps_val_data,\n",
    "                                       callbacks=callbacks_list)\n",
    "    print('Total Training Time: {}'.format(time.time() - start))\n",
    "    return trained_alexnet, m_alexnet"
   ]
  },
  {
   "cell_type": "code",
   "execution_count": 19,
   "metadata": {
    "collapsed": true
   },
   "outputs": [],
   "source": [
    "exists = len(os.listdir(models_alexnet)) != 0"
   ]
  },
  {
   "cell_type": "code",
   "execution_count": 20,
   "metadata": {
    "collapsed": false,
    "scrolled": true
   },
   "outputs": [
    {
     "name": "stdout",
     "output_type": "stream",
     "text": [
      "_________________________________________________________________\n",
      "Layer (type)                 Output Shape              Param #   \n",
      "=================================================================\n",
      "conv2d_1 (Conv2D)            (None, 10, 10, 96)        7296      \n",
      "_________________________________________________________________\n",
      "batch_normalization_1 (Batch (None, 10, 10, 96)        384       \n",
      "_________________________________________________________________\n",
      "activation_1 (Activation)    (None, 10, 10, 96)        0         \n",
      "_________________________________________________________________\n",
      "max_pooling2d_1 (MaxPooling2 (None, 5, 5, 96)          0         \n",
      "_________________________________________________________________\n",
      "zero_padding2d_1 (ZeroPaddin (None, 7, 7, 96)          0         \n",
      "_________________________________________________________________\n",
      "conv2d_2 (Conv2D)            (None, 7, 7, 256)         221440    \n",
      "_________________________________________________________________\n",
      "batch_normalization_2 (Batch (None, 7, 7, 256)         1024      \n",
      "_________________________________________________________________\n",
      "activation_2 (Activation)    (None, 7, 7, 256)         0         \n",
      "_________________________________________________________________\n",
      "max_pooling2d_2 (MaxPooling2 (None, 3, 3, 256)         0         \n",
      "_________________________________________________________________\n",
      "zero_padding2d_2 (ZeroPaddin (None, 5, 5, 256)         0         \n",
      "_________________________________________________________________\n",
      "conv2d_3 (Conv2D)            (None, 5, 5, 384)         885120    \n",
      "_________________________________________________________________\n",
      "batch_normalization_3 (Batch (None, 5, 5, 384)         1536      \n",
      "_________________________________________________________________\n",
      "activation_3 (Activation)    (None, 5, 5, 384)         0         \n",
      "_________________________________________________________________\n",
      "zero_padding2d_3 (ZeroPaddin (None, 7, 7, 384)         0         \n",
      "_________________________________________________________________\n",
      "conv2d_4 (Conv2D)            (None, 7, 7, 384)         1327488   \n",
      "_________________________________________________________________\n",
      "batch_normalization_4 (Batch (None, 7, 7, 384)         1536      \n",
      "_________________________________________________________________\n",
      "activation_4 (Activation)    (None, 7, 7, 384)         0         \n",
      "_________________________________________________________________\n",
      "zero_padding2d_4 (ZeroPaddin (None, 9, 9, 384)         0         \n",
      "_________________________________________________________________\n",
      "conv2d_5 (Conv2D)            (None, 9, 9, 384)         1327488   \n",
      "_________________________________________________________________\n",
      "batch_normalization_5 (Batch (None, 9, 9, 384)         1536      \n",
      "_________________________________________________________________\n",
      "activation_5 (Activation)    (None, 9, 9, 384)         0         \n",
      "_________________________________________________________________\n",
      "max_pooling2d_3 (MaxPooling2 (None, 4, 4, 384)         0         \n",
      "_________________________________________________________________\n",
      "flatten_1 (Flatten)          (None, 6144)              0         \n",
      "_________________________________________________________________\n",
      "dense_1 (Dense)              (None, 4096)              25169920  \n",
      "_________________________________________________________________\n",
      "batch_normalization_6 (Batch (None, 4096)              16384     \n",
      "_________________________________________________________________\n",
      "activation_6 (Activation)    (None, 4096)              0         \n",
      "_________________________________________________________________\n",
      "dropout_1 (Dropout)          (None, 4096)              0         \n",
      "_________________________________________________________________\n",
      "dense_2 (Dense)              (None, 4096)              16781312  \n",
      "_________________________________________________________________\n",
      "batch_normalization_7 (Batch (None, 4096)              16384     \n",
      "_________________________________________________________________\n",
      "activation_7 (Activation)    (None, 4096)              0         \n",
      "_________________________________________________________________\n",
      "dropout_2 (Dropout)          (None, 4096)              0         \n",
      "_________________________________________________________________\n",
      "dense_3 (Dense)              (None, 100)               409700    \n",
      "_________________________________________________________________\n",
      "batch_normalization_8 (Batch (None, 100)               400       \n",
      "_________________________________________________________________\n",
      "activation_8 (Activation)    (None, 100)               0         \n",
      "=================================================================\n",
      "Total params: 46,168,948\n",
      "Trainable params: 46,149,356\n",
      "Non-trainable params: 19,592\n",
      "_________________________________________________________________\n",
      "Epoch 1/30\n",
      "625/625 [==============================] - 64s 102ms/step - loss: 3.7812 - acc: 0.1232 - top_k_categorical_accuracy: 0.3508 - val_loss: 4.4107 - val_acc: 0.0894 - val_top_k_categorical_accuracy: 0.2631\n",
      "Epoch 2/30\n",
      "625/625 [==============================] - 59s 94ms/step - loss: 3.2296 - acc: 0.2168 - top_k_categorical_accuracy: 0.5179 - val_loss: 3.4195 - val_acc: 0.1853 - val_top_k_categorical_accuracy: 0.4604\n",
      "Epoch 3/30\n",
      "625/625 [==============================] - 58s 94ms/step - loss: 2.9569 - acc: 0.2694 - top_k_categorical_accuracy: 0.5859 - val_loss: 3.4260 - val_acc: 0.1927 - val_top_k_categorical_accuracy: 0.4697\n",
      "Epoch 4/30\n",
      "625/625 [==============================] - 58s 94ms/step - loss: 2.7683 - acc: 0.3029 - top_k_categorical_accuracy: 0.6288 - val_loss: 2.9028 - val_acc: 0.2892 - val_top_k_categorical_accuracy: 0.5830\n",
      "Epoch 5/30\n",
      "625/625 [==============================] - 58s 94ms/step - loss: 2.6052 - acc: 0.3397 - top_k_categorical_accuracy: 0.6642 - val_loss: 2.9532 - val_acc: 0.2769 - val_top_k_categorical_accuracy: 0.5761\n",
      "Epoch 6/30\n",
      "625/625 [==============================] - 58s 93ms/step - loss: 2.4701 - acc: 0.3639 - top_k_categorical_accuracy: 0.6963 - val_loss: 2.6682 - val_acc: 0.3339 - val_top_k_categorical_accuracy: 0.6430\n",
      "Epoch 7/30\n",
      "625/625 [==============================] - 59s 94ms/step - loss: 2.3507 - acc: 0.3863 - top_k_categorical_accuracy: 0.7197 - val_loss: 2.7632 - val_acc: 0.3079 - val_top_k_categorical_accuracy: 0.6226\n",
      "Epoch 8/30\n",
      "625/625 [==============================] - 58s 94ms/step - loss: 2.2441 - acc: 0.4128 - top_k_categorical_accuracy: 0.7432 - val_loss: 2.7750 - val_acc: 0.3124 - val_top_k_categorical_accuracy: 0.6168\n",
      "Epoch 9/30\n",
      "625/625 [==============================] - 58s 93ms/step - loss: 2.1428 - acc: 0.4342 - top_k_categorical_accuracy: 0.7617 - val_loss: 2.8034 - val_acc: 0.3131 - val_top_k_categorical_accuracy: 0.6142\n",
      "Epoch 10/30\n",
      "625/625 [==============================] - 58s 93ms/step - loss: 2.0239 - acc: 0.4601 - top_k_categorical_accuracy: 0.7871 - val_loss: 2.4294 - val_acc: 0.3844 - val_top_k_categorical_accuracy: 0.6962\n",
      "Epoch 11/30\n",
      "625/625 [==============================] - 58s 93ms/step - loss: 1.9262 - acc: 0.4819 - top_k_categorical_accuracy: 0.8039 - val_loss: 2.3844 - val_acc: 0.3960 - val_top_k_categorical_accuracy: 0.7088\n",
      "Epoch 12/30\n",
      "625/625 [==============================] - 59s 94ms/step - loss: 1.8323 - acc: 0.5006 - top_k_categorical_accuracy: 0.8211 - val_loss: 2.3936 - val_acc: 0.4005 - val_top_k_categorical_accuracy: 0.7089\n",
      "Epoch 13/30\n",
      "625/625 [==============================] - 58s 93ms/step - loss: 1.7279 - acc: 0.5269 - top_k_categorical_accuracy: 0.8394 - val_loss: 2.2786 - val_acc: 0.4178 - val_top_k_categorical_accuracy: 0.7272\n",
      "Epoch 14/30\n",
      "625/625 [==============================] - 58s 93ms/step - loss: 1.6261 - acc: 0.5495 - top_k_categorical_accuracy: 0.8584 - val_loss: 2.3852 - val_acc: 0.4072 - val_top_k_categorical_accuracy: 0.7100\n",
      "Epoch 15/30\n",
      "625/625 [==============================] - 58s 93ms/step - loss: 1.5162 - acc: 0.5766 - top_k_categorical_accuracy: 0.8750 - val_loss: 2.4272 - val_acc: 0.4041 - val_top_k_categorical_accuracy: 0.7047\n",
      "Epoch 16/30\n",
      "625/625 [==============================] - 58s 93ms/step - loss: 1.4185 - acc: 0.6029 - top_k_categorical_accuracy: 0.8921 - val_loss: 2.3649 - val_acc: 0.4111 - val_top_k_categorical_accuracy: 0.7163\n",
      "Epoch 17/30\n",
      "625/625 [==============================] - 59s 94ms/step - loss: 1.3195 - acc: 0.6236 - top_k_categorical_accuracy: 0.9081 - val_loss: 2.3832 - val_acc: 0.4291 - val_top_k_categorical_accuracy: 0.7225\n",
      "Epoch 00017: early stopping\n",
      "Total Training Time: 1002.55473113\n"
     ]
    }
   ],
   "source": [
    "# check if a pretrained model exists:\n",
    "if exists: \n",
    "    print('Loading previous model...')\n",
    "    m_alexnet = load_model(glob.glob(models_alexnet + '*32.hdf5')[0])\n",
    "    print('AlexNet Loaded.')\n",
    "else:\n",
    "    trained_alexnet, m_alexnet = train_alexnet(train_gen, val_gen, 30, number_of_classes, x_train.shape[1], True)"
   ]
  },
  {
   "cell_type": "code",
   "execution_count": 23,
   "metadata": {
    "collapsed": false
   },
   "outputs": [],
   "source": [
    "m_alexnet.save(models_alexnet + 'topmodel32.hdf5')"
   ]
  },
  {
   "cell_type": "code",
   "execution_count": 22,
   "metadata": {
    "collapsed": false
   },
   "outputs": [
    {
     "data": {
      "image/png": "[encoded data removed]",
      "text/plain": [
       "<matplotlib.figure.Figure at 0x7f25b8cae890>"
      ]
     },
     "metadata": {
      "needs_background": "light"
     },
     "output_type": "display_data"
    }
   ],
   "source": [
    "plot_loss_accuracy(trained_alexnet, 'AlexNet on 32x32')"
   ]
  },
  {
   "cell_type": "code",
   "execution_count": 24,
   "metadata": {
    "collapsed": false
   },
   "outputs": [
    {
     "name": "stdout",
     "output_type": "stream",
     "text": [
      "10000/10000 [==============================] - 3s 291us/step\n",
      "('AlexNet Test Loss:', 15.853575588989258)\n",
      "('AlexNet Accuracy:', 0.0143)\n",
      "('AlexNet Top-5 Accuracy', 0.8488)\n"
     ]
    }
   ],
   "source": [
    "score = m_alexnet.evaluate(x_test, y_test, verbose=1)\n",
    "print('AlexNet Test Loss:', score[0])\n",
    "print('AlexNet Accuracy:', score[1])\n",
    "print('AlexNet Top-5 Accuracy', score[2])"
   ]
  },
  {
   "cell_type": "markdown",
   "metadata": {},
   "source": [
    "#### AlexNet with upsampled CIFAR100 images"
   ]
  },
  {
   "cell_type": "markdown",
   "metadata": {},
   "source": [
    "Now we run the same model on the 128x128 upsampled images to see if the added pixels will help with the learning process despite the images being upsampled. The images are larger but one caveat is that the upsampling uitlizes pixel interpolation to retain some resolution when creating the larger image. Perhaps some image integrity is comprimised in the process, hurting the overall edges or causing pixelation of the image. Despite the upsampling, we do expect better accuracy and loss."
   ]
  },
  {
   "cell_type": "code",
   "execution_count": 25,
   "metadata": {
    "collapsed": false,
    "scrolled": true
   },
   "outputs": [
    {
     "name": "stdout",
     "output_type": "stream",
     "text": [
      "_________________________________________________________________\n",
      "Layer (type)                 Output Shape              Param #   \n",
      "=================================================================\n",
      "conv2d_6 (Conv2D)            (None, 42, 42, 96)        7296      \n",
      "_________________________________________________________________\n",
      "batch_normalization_9 (Batch (None, 42, 42, 96)        384       \n",
      "_________________________________________________________________\n",
      "activation_9 (Activation)    (None, 42, 42, 96)        0         \n",
      "_________________________________________________________________\n",
      "max_pooling2d_4 (MaxPooling2 (None, 21, 21, 96)        0         \n",
      "_________________________________________________________________\n",
      "zero_padding2d_5 (ZeroPaddin (None, 23, 23, 96)        0         \n",
      "_________________________________________________________________\n",
      "conv2d_7 (Conv2D)            (None, 23, 23, 256)       221440    \n",
      "_________________________________________________________________\n",
      "batch_normalization_10 (Batc (None, 23, 23, 256)       1024      \n",
      "_________________________________________________________________\n",
      "activation_10 (Activation)   (None, 23, 23, 256)       0         \n",
      "_________________________________________________________________\n",
      "max_pooling2d_5 (MaxPooling2 (None, 11, 11, 256)       0         \n",
      "_________________________________________________________________\n",
      "zero_padding2d_6 (ZeroPaddin (None, 13, 13, 256)       0         \n",
      "_________________________________________________________________\n",
      "conv2d_8 (Conv2D)            (None, 13, 13, 384)       885120    \n",
      "_________________________________________________________________\n",
      "batch_normalization_11 (Batc (None, 13, 13, 384)       1536      \n",
      "_________________________________________________________________\n",
      "activation_11 (Activation)   (None, 13, 13, 384)       0         \n",
      "_________________________________________________________________\n",
      "zero_padding2d_7 (ZeroPaddin (None, 15, 15, 384)       0         \n",
      "_________________________________________________________________\n",
      "conv2d_9 (Conv2D)            (None, 15, 15, 384)       1327488   \n",
      "_________________________________________________________________\n",
      "batch_normalization_12 (Batc (None, 15, 15, 384)       1536      \n",
      "_________________________________________________________________\n",
      "activation_12 (Activation)   (None, 15, 15, 384)       0         \n",
      "_________________________________________________________________\n",
      "zero_padding2d_8 (ZeroPaddin (None, 17, 17, 384)       0         \n",
      "_________________________________________________________________\n",
      "conv2d_10 (Conv2D)           (None, 17, 17, 384)       1327488   \n",
      "_________________________________________________________________\n",
      "batch_normalization_13 (Batc (None, 17, 17, 384)       1536      \n",
      "_________________________________________________________________\n",
      "activation_13 (Activation)   (None, 17, 17, 384)       0         \n",
      "_________________________________________________________________\n",
      "max_pooling2d_6 (MaxPooling2 (None, 8, 8, 384)         0         \n",
      "_________________________________________________________________\n",
      "flatten_2 (Flatten)          (None, 24576)             0         \n",
      "_________________________________________________________________\n",
      "dense_4 (Dense)              (None, 4096)              100667392 \n",
      "_________________________________________________________________\n",
      "batch_normalization_14 (Batc (None, 4096)              16384     \n",
      "_________________________________________________________________\n",
      "activation_14 (Activation)   (None, 4096)              0         \n",
      "_________________________________________________________________\n",
      "dropout_3 (Dropout)          (None, 4096)              0         \n",
      "_________________________________________________________________\n",
      "dense_5 (Dense)              (None, 4096)              16781312  \n",
      "_________________________________________________________________\n",
      "batch_normalization_15 (Batc (None, 4096)              16384     \n",
      "_________________________________________________________________\n",
      "activation_15 (Activation)   (None, 4096)              0         \n",
      "_________________________________________________________________\n",
      "dropout_4 (Dropout)          (None, 4096)              0         \n",
      "_________________________________________________________________\n",
      "dense_6 (Dense)              (None, 100)               409700    \n",
      "_________________________________________________________________\n",
      "batch_normalization_16 (Batc (None, 100)               400       \n",
      "_________________________________________________________________\n",
      "activation_16 (Activation)   (None, 100)               0         \n",
      "=================================================================\n",
      "Total params: 121,666,420\n",
      "Trainable params: 121,646,828\n",
      "Non-trainable params: 19,592\n",
      "_________________________________________________________________\n",
      "Epoch 1/30\n",
      "1250/1250 [==============================] - 284s 227ms/step - loss: 3.7087 - acc: 0.1361 - top_k_categorical_accuracy: 0.3787 - val_loss: 3.3685 - val_acc: 0.1930 - val_top_k_categorical_accuracy: 0.4704\n",
      "Epoch 2/30\n",
      "1250/1250 [==============================] - 278s 222ms/step - loss: 3.0706 - acc: 0.2502 - top_k_categorical_accuracy: 0.5662 - val_loss: 3.0681 - val_acc: 0.2609 - val_top_k_categorical_accuracy: 0.5463\n",
      "Epoch 3/30\n",
      "1250/1250 [==============================] - 276s 221ms/step - loss: 2.6682 - acc: 0.3279 - top_k_categorical_accuracy: 0.6614 - val_loss: 2.5234 - val_acc: 0.3664 - val_top_k_categorical_accuracy: 0.6708\n",
      "Epoch 4/30\n",
      "1250/1250 [==============================] - 276s 221ms/step - loss: 2.3732 - acc: 0.3877 - top_k_categorical_accuracy: 0.7234 - val_loss: 2.3017 - val_acc: 0.4111 - val_top_k_categorical_accuracy: 0.7183\n",
      "Epoch 5/30\n",
      "1250/1250 [==============================] - 276s 221ms/step - loss: 2.1320 - acc: 0.4376 - top_k_categorical_accuracy: 0.7724 - val_loss: 2.4602 - val_acc: 0.3832 - val_top_k_categorical_accuracy: 0.6924\n",
      "Epoch 6/30\n",
      "1250/1250 [==============================] - 276s 221ms/step - loss: 1.9291 - acc: 0.4851 - top_k_categorical_accuracy: 0.8059 - val_loss: 2.1223 - val_acc: 0.4561 - val_top_k_categorical_accuracy: 0.7610\n",
      "Epoch 7/30\n",
      "1250/1250 [==============================] - 276s 221ms/step - loss: 1.7341 - acc: 0.5299 - top_k_categorical_accuracy: 0.8427 - val_loss: 1.9204 - val_acc: 0.5042 - val_top_k_categorical_accuracy: 0.7904\n",
      "Epoch 8/30\n",
      "1250/1250 [==============================] - 276s 221ms/step - loss: 1.5303 - acc: 0.5779 - top_k_categorical_accuracy: 0.8763 - val_loss: 2.1042 - val_acc: 0.4754 - val_top_k_categorical_accuracy: 0.7477\n",
      "Epoch 9/30\n",
      "1250/1250 [==============================] - 277s 222ms/step - loss: 1.3587 - acc: 0.6217 - top_k_categorical_accuracy: 0.9025 - val_loss: 1.9294 - val_acc: 0.5124 - val_top_k_categorical_accuracy: 0.7849\n",
      "Epoch 10/30\n",
      "1250/1250 [==============================] - 276s 221ms/step - loss: 1.1941 - acc: 0.6658 - top_k_categorical_accuracy: 0.9264 - val_loss: 2.0914 - val_acc: 0.4835 - val_top_k_categorical_accuracy: 0.7645\n",
      "Epoch 11/30\n",
      "1250/1250 [==============================] - 278s 222ms/step - loss: 1.0334 - acc: 0.7103 - top_k_categorical_accuracy: 0.9456 - val_loss: 2.0456 - val_acc: 0.5027 - val_top_k_categorical_accuracy: 0.7724\n",
      "Epoch 00011: early stopping\n",
      "Total Training Time: 3051.84720993\n"
     ]
    }
   ],
   "source": [
    "# check if model exists\n",
    "if exists: \n",
    "    print('Loading previous model...')\n",
    "    m_alexnet128 = load_model(glob.glob(models_alexnet + '*128.hdf5')[0])\n",
    "    print('AlexNet Loaded.')\n",
    "else:\n",
    "    trained_alexnet_128, m_alexnet128 = train_alexnet(train_gen_128, val_gen_128, 30, number_of_classes, width, True)"
   ]
  },
  {
   "cell_type": "code",
   "execution_count": 28,
   "metadata": {
    "collapsed": true
   },
   "outputs": [],
   "source": [
    "m_alexnet128.save(models_alexnet + 'topmodel128.hdf5')"
   ]
  },
  {
   "cell_type": "code",
   "execution_count": 26,
   "metadata": {
    "collapsed": false,
    "scrolled": true
   },
   "outputs": [
    {
     "data": {
      "image/png": "[encoded data removed]",
      "text/plain": [
       "<matplotlib.figure.Figure at 0x7f25b79a7690>"
      ]
     },
     "metadata": {
      "needs_background": "light"
     },
     "output_type": "display_data"
    }
   ],
   "source": [
    "plot_loss_accuracy(trained_alexnet_128, 'AlexNet on 128x128')"
   ]
  },
  {
   "cell_type": "code",
   "execution_count": 29,
   "metadata": {
    "collapsed": false
   },
   "outputs": [
    {
     "name": "stdout",
     "output_type": "stream",
     "text": [
      "10000/10000 [==============================] - 8s 783us/step\n",
      "('AlexNet Test Loss:', 15.809020584106445)\n",
      "('AlexNet Accuracy:', 0.0182)\n",
      "('AlexNet Top-5 Accuracy', 0.9073)\n"
     ]
    }
   ],
   "source": [
    "score = m_alexnet128.evaluate(x_test_128, y_test, verbose=1)\n",
    "print('AlexNet Test Loss:', score[0])\n",
    "print('AlexNet Accuracy:', score[1])\n",
    "print('AlexNet Top-5 Accuracy', score[2])"
   ]
  },
  {
   "cell_type": "markdown",
   "metadata": {},
   "source": [
    "### VGG19 Architecture "
   ]
  },
  {
   "cell_type": "markdown",
   "metadata": {},
   "source": [
    "VGG19 uses 19 weight training layers instead of 16 with VGG16. The architecture of VGG19 is very similar to its predecessor. \n",
    "\n",
    "VGG models differ from the AlexNet architecture by using small convolutional filters (3x3) with short strides. By stacking these smaller filters over more convolutional layers, they were able to create an effective receptive area of a larger filter size, but creating less parameters in doing so. \n",
    "\n",
    "The paper on VGG19 is very informative and gives great insight into some current model architectures and their implementations. [Very Deep Convolutional Networks For Large-Scale Image Recognition](https://arxiv.org/pdf/1409.1556.pdf)"
   ]
  },
  {
   "cell_type": "code",
   "execution_count": 30,
   "metadata": {
    "collapsed": false
   },
   "outputs": [],
   "source": [
    "from keras.applications import VGG19\n",
    "from keras import Model"
   ]
  },
  {
   "cell_type": "code",
   "execution_count": 38,
   "metadata": {
    "collapsed": true
   },
   "outputs": [],
   "source": [
    "def create_vgg(num_classes, imgdim):\n",
    "    base_model = VGG19(input_shape=(imgdim, imgdim, 3), \n",
    "                       include_top=False, \n",
    "                       weights='imagenet')\n",
    "    # replace the fully connected layer to fit our application:\n",
    "    output = base_model.output\n",
    "    output = GlobalAveragePooling2D()(output)\n",
    "    output = Dense(num_classes, activation='softmax')(output)\n",
    "    m_vgg = Model(base_model.input, output)\n",
    "    \n",
    "    m_vgg.summary()\n",
    "    m_vgg.compile(loss='categorical_crossentropy',\n",
    "          optimizer=SGD(lr=0.001, momentum=0.9, decay=5e-4, nesterov=True),\n",
    "          metrics=['accuracy', 'top_k_categorical_accuracy'])\n",
    "    return m_vgg"
   ]
  },
  {
   "cell_type": "code",
   "execution_count": 39,
   "metadata": {
    "collapsed": true
   },
   "outputs": [],
   "source": [
    "def train_vgg(train_gen, val_gen, n_epochs, n_classes, imgdim, callbacks_bool):\n",
    "    start = time.time()\n",
    "    if callbacks_bool:\n",
    "        callbacks_list = [\n",
    "            #ModelCheckpoint(top_model_path, monitor='val_acc', verbose=1, save_best_only=True),\n",
    "            EarlyStopping(monitor='val_loss', patience=4, verbose=1)\n",
    "        ]\n",
    "    else:\n",
    "        callbacks_list = []\n",
    "        \n",
    "    # create model:    \n",
    "    m_vgg = create_vgg(n_classes, imgdim)\n",
    "    \n",
    "    # Begin training:\n",
    "    steps_train_data = train_gen.n//train_gen.batch_size\n",
    "    steps_val_data = val_gen.n//val_gen.batch_size\n",
    "    trained_vgg = m_vgg.fit_generator(train_gen,\n",
    "                                       steps_per_epoch=steps_train_data,\n",
    "                                       epochs=n_epochs,\n",
    "                                       validation_data = val_gen,\n",
    "                                       validation_steps = steps_val_data,\n",
    "                                       callbacks=callbacks_list)\n",
    "    print('Total Training Time: {}'.format(time.time() - start))\n",
    "    return trained_vgg, m_vgg"
   ]
  },
  {
   "cell_type": "code",
   "execution_count": 40,
   "metadata": {
    "collapsed": true
   },
   "outputs": [],
   "source": [
    "exists_vgg = len(os.listdir(models_vgg)) != 0"
   ]
  },
  {
   "cell_type": "code",
   "execution_count": 41,
   "metadata": {
    "collapsed": false,
    "scrolled": false
   },
   "outputs": [
    {
     "name": "stdout",
     "output_type": "stream",
     "text": [
      "_________________________________________________________________\n",
      "Layer (type)                 Output Shape              Param #   \n",
      "=================================================================\n",
      "input_3 (InputLayer)         (None, 32, 32, 3)         0         \n",
      "_________________________________________________________________\n",
      "block1_conv1 (Conv2D)        (None, 32, 32, 64)        1792      \n",
      "_________________________________________________________________\n",
      "block1_conv2 (Conv2D)        (None, 32, 32, 64)        36928     \n",
      "_________________________________________________________________\n",
      "block1_pool (MaxPooling2D)   (None, 16, 16, 64)        0         \n",
      "_________________________________________________________________\n",
      "block2_conv1 (Conv2D)        (None, 16, 16, 128)       73856     \n",
      "_________________________________________________________________\n",
      "block2_conv2 (Conv2D)        (None, 16, 16, 128)       147584    \n",
      "_________________________________________________________________\n",
      "block2_pool (MaxPooling2D)   (None, 8, 8, 128)         0         \n",
      "_________________________________________________________________\n",
      "block3_conv1 (Conv2D)        (None, 8, 8, 256)         295168    \n",
      "_________________________________________________________________\n",
      "block3_conv2 (Conv2D)        (None, 8, 8, 256)         590080    \n",
      "_________________________________________________________________\n",
      "block3_conv3 (Conv2D)        (None, 8, 8, 256)         590080    \n",
      "_________________________________________________________________\n",
      "block3_conv4 (Conv2D)        (None, 8, 8, 256)         590080    \n",
      "_________________________________________________________________\n",
      "block3_pool (MaxPooling2D)   (None, 4, 4, 256)         0         \n",
      "_________________________________________________________________\n",
      "block4_conv1 (Conv2D)        (None, 4, 4, 512)         1180160   \n",
      "_________________________________________________________________\n",
      "block4_conv2 (Conv2D)        (None, 4, 4, 512)         2359808   \n",
      "_________________________________________________________________\n",
      "block4_conv3 (Conv2D)        (None, 4, 4, 512)         2359808   \n",
      "_________________________________________________________________\n",
      "block4_conv4 (Conv2D)        (None, 4, 4, 512)         2359808   \n",
      "_________________________________________________________________\n",
      "block4_pool (MaxPooling2D)   (None, 2, 2, 512)         0         \n",
      "_________________________________________________________________\n",
      "block5_conv1 (Conv2D)        (None, 2, 2, 512)         2359808   \n",
      "_________________________________________________________________\n",
      "block5_conv2 (Conv2D)        (None, 2, 2, 512)         2359808   \n",
      "_________________________________________________________________\n",
      "block5_conv3 (Conv2D)        (None, 2, 2, 512)         2359808   \n",
      "_________________________________________________________________\n",
      "block5_conv4 (Conv2D)        (None, 2, 2, 512)         2359808   \n",
      "_________________________________________________________________\n",
      "block5_pool (MaxPooling2D)   (None, 1, 1, 512)         0         \n",
      "_________________________________________________________________\n",
      "global_average_pooling2d_3 ( (None, 512)               0         \n",
      "_________________________________________________________________\n",
      "dense_9 (Dense)              (None, 100)               51300     \n",
      "=================================================================\n",
      "Total params: 20,075,684\n",
      "Trainable params: 20,075,684\n",
      "Non-trainable params: 0\n",
      "_________________________________________________________________\n",
      "Epoch 1/30\n",
      "625/625 [==============================] - 53s 85ms/step - loss: 3.1889 - acc: 0.2281 - top_k_categorical_accuracy: 0.4919 - val_loss: 2.4602 - val_acc: 0.3577 - val_top_k_categorical_accuracy: 0.6727\n",
      "Epoch 2/30\n",
      "625/625 [==============================] - 51s 82ms/step - loss: 2.2069 - acc: 0.4095 - top_k_categorical_accuracy: 0.7314 - val_loss: 2.0965 - val_acc: 0.4327 - val_top_k_categorical_accuracy: 0.7502\n",
      "Epoch 3/30\n",
      "625/625 [==============================] - 51s 82ms/step - loss: 1.8984 - acc: 0.4784 - top_k_categorical_accuracy: 0.7922 - val_loss: 1.9717 - val_acc: 0.4673 - val_top_k_categorical_accuracy: 0.7736\n",
      "Epoch 4/30\n",
      "625/625 [==============================] - 51s 82ms/step - loss: 1.6911 - acc: 0.5311 - top_k_categorical_accuracy: 0.8284 - val_loss: 1.9021 - val_acc: 0.4840 - val_top_k_categorical_accuracy: 0.7947\n",
      "Epoch 5/30\n",
      "625/625 [==============================] - 51s 82ms/step - loss: 1.5375 - acc: 0.5664 - top_k_categorical_accuracy: 0.8546 - val_loss: 1.8858 - val_acc: 0.4901 - val_top_k_categorical_accuracy: 0.8010\n",
      "Epoch 6/30\n",
      "625/625 [==============================] - 51s 82ms/step - loss: 1.4236 - acc: 0.5961 - top_k_categorical_accuracy: 0.8722 - val_loss: 1.7902 - val_acc: 0.5108 - val_top_k_categorical_accuracy: 0.8151\n",
      "Epoch 7/30\n",
      "625/625 [==============================] - 51s 82ms/step - loss: 1.3173 - acc: 0.6209 - top_k_categorical_accuracy: 0.8868 - val_loss: 1.7647 - val_acc: 0.5256 - val_top_k_categorical_accuracy: 0.8222\n",
      "Epoch 8/30\n",
      "625/625 [==============================] - 51s 82ms/step - loss: 1.2279 - acc: 0.6427 - top_k_categorical_accuracy: 0.9013 - val_loss: 1.7196 - val_acc: 0.5272 - val_top_k_categorical_accuracy: 0.8270\n",
      "Epoch 9/30\n",
      "625/625 [==============================] - 51s 82ms/step - loss: 1.1393 - acc: 0.6658 - top_k_categorical_accuracy: 0.9127 - val_loss: 1.7315 - val_acc: 0.5363 - val_top_k_categorical_accuracy: 0.8345\n",
      "Epoch 10/30\n",
      "625/625 [==============================] - 51s 82ms/step - loss: 1.0662 - acc: 0.6857 - top_k_categorical_accuracy: 0.9223 - val_loss: 1.7283 - val_acc: 0.5443 - val_top_k_categorical_accuracy: 0.8308\n",
      "Epoch 11/30\n",
      "625/625 [==============================] - 51s 82ms/step - loss: 0.9902 - acc: 0.7058 - top_k_categorical_accuracy: 0.9316 - val_loss: 1.7621 - val_acc: 0.5362 - val_top_k_categorical_accuracy: 0.8294\n",
      "Epoch 12/30\n",
      "625/625 [==============================] - 52s 83ms/step - loss: 0.9265 - acc: 0.7208 - top_k_categorical_accuracy: 0.9389 - val_loss: 1.7347 - val_acc: 0.5496 - val_top_k_categorical_accuracy: 0.8371\n",
      "Epoch 00012: early stopping\n",
      "Total Training Time: 618.624138117\n"
     ]
    }
   ],
   "source": [
    "# check if model exists\n",
    "if exists_vgg: \n",
    "    print('Loading previous model...')\n",
    "    m_alexnet = load_model(glob.glob(models_alexnet + '*32.hdf5')[0])\n",
    "    print('VGG19 Loaded.')\n",
    "else:\n",
    "    trained_vgg, m_vgg = train_vgg(train_gen, val_gen, 30, number_of_classes, x_train.shape[1], True)"
   ]
  },
  {
   "cell_type": "code",
   "execution_count": 44,
   "metadata": {
    "collapsed": true
   },
   "outputs": [],
   "source": [
    "m_vgg.save(models_vgg + 'topmodel32.hdf5')"
   ]
  },
  {
   "cell_type": "code",
   "execution_count": 42,
   "metadata": {
    "collapsed": false
   },
   "outputs": [
    {
     "data": {
      "image/png": "[encoded data removed]",
      "text/plain": [
       "<matplotlib.figure.Figure at 0x7f2105bb2ed0>"
      ]
     },
     "metadata": {
      "needs_background": "light"
     },
     "output_type": "display_data"
    }
   ],
   "source": [
    "plot_loss_accuracy(trained_vgg, 'VGG19 on 32x32')"
   ]
  },
  {
   "cell_type": "code",
   "execution_count": 43,
   "metadata": {
    "collapsed": false
   },
   "outputs": [
    {
     "name": "stdout",
     "output_type": "stream",
     "text": [
      "10000/10000 [==============================] - 4s 431us/step\n",
      "('VGG19 Test Loss:', 9.589820986938477)\n",
      "('VGG19 Accuracy:', 0.3969)\n",
      "('VGG19 Top-5 Accuracy:', 0.9698)\n"
     ]
    }
   ],
   "source": [
    "score = m_vgg.evaluate(x_test, y_test, verbose=1)\n",
    "print('VGG19 Test Loss:', score[0])\n",
    "print('VGG19 Accuracy:', score[1])\n",
    "print('VGG19 Top-5 Accuracy:', score[2])"
   ]
  },
  {
   "cell_type": "markdown",
   "metadata": {},
   "source": [
    "#### VGG19 with upsampled CIFAR100 images"
   ]
  },
  {
   "cell_type": "markdown",
   "metadata": {
    "collapsed": true
   },
   "source": [
    "Now again, run the VGG19 architecture on the 128x128 upsampled images using the imagenet weights (transfer learning)."
   ]
  },
  {
   "cell_type": "code",
   "execution_count": 45,
   "metadata": {
    "collapsed": false
   },
   "outputs": [
    {
     "name": "stdout",
     "output_type": "stream",
     "text": [
      "_________________________________________________________________\n",
      "Layer (type)                 Output Shape              Param #   \n",
      "=================================================================\n",
      "input_4 (InputLayer)         (None, 128, 128, 3)       0         \n",
      "_________________________________________________________________\n",
      "block1_conv1 (Conv2D)        (None, 128, 128, 64)      1792      \n",
      "_________________________________________________________________\n",
      "block1_conv2 (Conv2D)        (None, 128, 128, 64)      36928     \n",
      "_________________________________________________________________\n",
      "block1_pool (MaxPooling2D)   (None, 64, 64, 64)        0         \n",
      "_________________________________________________________________\n",
      "block2_conv1 (Conv2D)        (None, 64, 64, 128)       73856     \n",
      "_________________________________________________________________\n",
      "block2_conv2 (Conv2D)        (None, 64, 64, 128)       147584    \n",
      "_________________________________________________________________\n",
      "block2_pool (MaxPooling2D)   (None, 32, 32, 128)       0         \n",
      "_________________________________________________________________\n",
      "block3_conv1 (Conv2D)        (None, 32, 32, 256)       295168    \n",
      "_________________________________________________________________\n",
      "block3_conv2 (Conv2D)        (None, 32, 32, 256)       590080    \n",
      "_________________________________________________________________\n",
      "block3_conv3 (Conv2D)        (None, 32, 32, 256)       590080    \n",
      "_________________________________________________________________\n",
      "block3_conv4 (Conv2D)        (None, 32, 32, 256)       590080    \n",
      "_________________________________________________________________\n",
      "block3_pool (MaxPooling2D)   (None, 16, 16, 256)       0         \n",
      "_________________________________________________________________\n",
      "block4_conv1 (Conv2D)        (None, 16, 16, 512)       1180160   \n",
      "_________________________________________________________________\n",
      "block4_conv2 (Conv2D)        (None, 16, 16, 512)       2359808   \n",
      "_________________________________________________________________\n",
      "block4_conv3 (Conv2D)        (None, 16, 16, 512)       2359808   \n",
      "_________________________________________________________________\n",
      "block4_conv4 (Conv2D)        (None, 16, 16, 512)       2359808   \n",
      "_________________________________________________________________\n",
      "block4_pool (MaxPooling2D)   (None, 8, 8, 512)         0         \n",
      "_________________________________________________________________\n",
      "block5_conv1 (Conv2D)        (None, 8, 8, 512)         2359808   \n",
      "_________________________________________________________________\n",
      "block5_conv2 (Conv2D)        (None, 8, 8, 512)         2359808   \n",
      "_________________________________________________________________\n",
      "block5_conv3 (Conv2D)        (None, 8, 8, 512)         2359808   \n",
      "_________________________________________________________________\n",
      "block5_conv4 (Conv2D)        (None, 8, 8, 512)         2359808   \n",
      "_________________________________________________________________\n",
      "block5_pool (MaxPooling2D)   (None, 4, 4, 512)         0         \n",
      "_________________________________________________________________\n",
      "global_average_pooling2d_4 ( (None, 512)               0         \n",
      "_________________________________________________________________\n",
      "dense_10 (Dense)             (None, 100)               51300     \n",
      "=================================================================\n",
      "Total params: 20,075,684\n",
      "Trainable params: 20,075,684\n",
      "Non-trainable params: 0\n",
      "_________________________________________________________________\n",
      "Epoch 1/30\n",
      "1250/1250 [==============================] - 328s 262ms/step - loss: 3.4318 - acc: 0.1958 - top_k_categorical_accuracy: 0.4118 - val_loss: 1.9412 - val_acc: 0.4645 - val_top_k_categorical_accuracy: 0.7883\n",
      "Epoch 2/30\n",
      "1250/1250 [==============================] - 329s 263ms/step - loss: 1.5802 - acc: 0.5559 - top_k_categorical_accuracy: 0.8529 - val_loss: 1.3535 - val_acc: 0.6073 - val_top_k_categorical_accuracy: 0.8905\n",
      "Epoch 3/30\n",
      "1250/1250 [==============================] - 325s 260ms/step - loss: 1.1225 - acc: 0.6690 - top_k_categorical_accuracy: 0.9198 - val_loss: 1.1851 - val_acc: 0.6555 - val_top_k_categorical_accuracy: 0.9141\n",
      "Epoch 4/30\n",
      "1250/1250 [==============================] - 338s 271ms/step - loss: 0.8642 - acc: 0.7389 - top_k_categorical_accuracy: 0.9484 - val_loss: 1.1717 - val_acc: 0.6741 - val_top_k_categorical_accuracy: 0.9197\n",
      "Epoch 5/30\n",
      "1250/1250 [==============================] - 341s 273ms/step - loss: 0.6860 - acc: 0.7889 - top_k_categorical_accuracy: 0.9654 - val_loss: 1.1072 - val_acc: 0.6903 - val_top_k_categorical_accuracy: 0.9274\n",
      "Epoch 6/30\n",
      "1250/1250 [==============================] - 334s 267ms/step - loss: 0.5527 - acc: 0.8262 - top_k_categorical_accuracy: 0.9775 - val_loss: 1.1785 - val_acc: 0.6964 - val_top_k_categorical_accuracy: 0.9251\n",
      "Epoch 7/30\n",
      "1250/1250 [==============================] - 333s 266ms/step - loss: 0.4508 - acc: 0.8561 - top_k_categorical_accuracy: 0.9845 - val_loss: 1.0909 - val_acc: 0.7078 - val_top_k_categorical_accuracy: 0.9319\n",
      "Epoch 8/30\n",
      "1250/1250 [==============================] - 337s 269ms/step - loss: 0.3579 - acc: 0.8854 - top_k_categorical_accuracy: 0.9898 - val_loss: 1.1642 - val_acc: 0.7095 - val_top_k_categorical_accuracy: 0.9331\n",
      "Epoch 9/30\n",
      "1250/1250 [==============================] - 337s 270ms/step - loss: 0.2856 - acc: 0.9070 - top_k_categorical_accuracy: 0.9935 - val_loss: 1.1556 - val_acc: 0.7040 - val_top_k_categorical_accuracy: 0.9339\n",
      "Epoch 10/30\n",
      "1250/1250 [==============================] - 325s 260ms/step - loss: 0.2280 - acc: 0.9260 - top_k_categorical_accuracy: 0.9964 - val_loss: 1.2496 - val_acc: 0.7141 - val_top_k_categorical_accuracy: 0.9318\n",
      "Epoch 11/30\n",
      "1250/1250 [==============================] - 328s 263ms/step - loss: 0.1832 - acc: 0.9405 - top_k_categorical_accuracy: 0.9980 - val_loss: 1.3580 - val_acc: 0.7101 - val_top_k_categorical_accuracy: 0.9332\n",
      "Epoch 00011: early stopping\n",
      "Total Training Time: 3657.20219994\n"
     ]
    }
   ],
   "source": [
    "# check if model exists\n",
    "if exists_vgg: \n",
    "    print('Loading previous model...')\n",
    "    m_alexnet = load_model(glob.glob(models_alexnet + '*128.hdf5')[0])\n",
    "    print('VGG19 Loaded.')\n",
    "else:\n",
    "    trained_vgg_128, m_vgg128 = train_vgg(train_gen_128, val_gen_128, 30, number_of_classes, width, True)"
   ]
  },
  {
   "cell_type": "code",
   "execution_count": 48,
   "metadata": {
    "collapsed": true
   },
   "outputs": [],
   "source": [
    "m_vgg128.save(models_vgg + 'topmodel128.hdf5')"
   ]
  },
  {
   "cell_type": "code",
   "execution_count": 46,
   "metadata": {
    "collapsed": false
   },
   "outputs": [
    {
     "data": {
      "image/png": "[encoded data removed]",
      "text/plain": [
       "<matplotlib.figure.Figure at 0x7f210d47ea90>"
      ]
     },
     "metadata": {
      "needs_background": "light"
     },
     "output_type": "display_data"
    }
   ],
   "source": [
    "plot_loss_accuracy(trained_vgg_128, 'VGG19 on 128x128')"
   ]
  },
  {
   "cell_type": "code",
   "execution_count": 47,
   "metadata": {
    "collapsed": false
   },
   "outputs": [
    {
     "name": "stdout",
     "output_type": "stream",
     "text": [
      "10000/10000 [==============================] - 23s 2ms/step\n",
      "('VGG19 Test loss:', 8.339326272583008)\n",
      "('VGG19 accuracy:', 0.4739)\n",
      "('VGG19 Top-5 Accuracy:', 0.9733)\n"
     ]
    }
   ],
   "source": [
    "score = m_vgg128.evaluate(x_test_128, y_test, verbose=1)\n",
    "print('VGG19 Test loss:', score[0])\n",
    "print('VGG19 accuracy:', score[1])\n",
    "print('VGG19 Top-5 Accuracy:', score[2])"
   ]
  },
  {
   "cell_type": "markdown",
   "metadata": {},
   "source": [
    "### Conclusions:"
   ]
  },
  {
   "cell_type": "markdown",
   "metadata": {},
   "source": [
    "To breifly summarize our findings, using transfer learning with VGG19 with imagenet initialization weights gave us the best result, obtaining a Top-5 test accuracy of 0.9698 on 32x32, and even higher at 0.9733 for the 128x128 case. Our AlexNet implementation was trained from scratch without using transfer learning. This could definitely be a contributor to the poor results, since all low and high level features had to be learned by the model on the first go, and our optimizer uses momentum to speed up the learning process, thus making it a bit harder for the model to pick up the low level features with precision. The AlexNet implementation achieved 0.8488 Top-5 test accuracy on 32x32 and 0.9073 on 128x128.\n",
    "\n",
    "Additional note - the 32x32 images are very small, especially in the AlexNet case since the pooling layers cut down the output to 1 pixel by the end of the convolution blocks. Upsampling the images did improve both models drastically, showing that more image data really makes a difference, at least on CIFAR100 and colour images. \n",
    "\n",
    "Possible improvements include using different optimization techniques, more advanced tuning of hyperparameters and better implementation of transfer learning (using better weights for initialization)."
   ]
  }
 ],
 "metadata": {
  "kernelspec": {
   "display_name": "Python 3",
   "language": "python",
   "name": "python3"
  },
  "language_info": {
   "codemirror_mode": {
    "name": "ipython",
    "version": 2
   },
   "file_extension": ".py",
   "mimetype": "text/x-python",
   "name": "python",
   "nbconvert_exporter": "python",
   "pygments_lexer": "ipython2",
   "version": "2.7.12"
  }
 },
 "nbformat": 4,
 "nbformat_minor": 2
}
