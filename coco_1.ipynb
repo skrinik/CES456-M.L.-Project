{
 "cells": [
  {
   "cell_type": "markdown",
   "metadata": {},
   "source": [
    "# COCO Dataset, Object Classification Comparing XCeption V1 and VGG19\n",
    "## Utilizing subset of 10,000 images from the COCO Dataset\n",
    "### By: Luis Cervantes & Sean Krinik\n"
   ]
  },
  {
   "cell_type": "markdown",
   "metadata": {},
   "source": [
    "#### Sources: \n",
    "**Coco Dataset:** [Common Objects in Context](http://cocodataset.org/#home) - Data source along with API. <br>\n",
    "**Keras.io:** [Keras.io](https://keras.io/) - All model implementation and documentation on models."
   ]
  },
  {
   "cell_type": "code",
   "execution_count": 44,
   "metadata": {
    "collapsed": false
   },
   "outputs": [],
   "source": [
    "import numpy as np\n",
    "import random\n",
    "import pandas as pd\n",
    "import sys, os, os.path, glob, time\n",
    "import cv2\n",
    "from scipy import stats\n",
    "from scipy import misc\n",
    "import concurrent.futures\n",
    "import matplotlib.pyplot as plt\n",
    "%matplotlib inline\n",
    "from pycocotools.coco import COCO\n",
    "\n",
    "from keras.models import Sequential, load_model, model_from_json\n",
    "from keras.layers import Dense, Dropout, Activation, Flatten\n",
    "from keras.layers.normalization import BatchNormalization\n",
    "from keras.layers import Conv2D, MaxPooling2D, GlobalAveragePooling2D\n",
    "import keras.utils \n",
    "from keras.callbacks import EarlyStopping, ModelCheckpoint\n",
    "from keras.preprocessing.image import ImageDataGenerator\n",
    "from keras.optimizers import Adam, SGD, Adadelta\n",
    "import h5py"
   ]
  },
  {
   "cell_type": "code",
   "execution_count": 2,
   "metadata": {
    "collapsed": true
   },
   "outputs": [],
   "source": [
    "# Plot Loss Function:\n",
    "def plot_loss_accuracy(history, modelnum):\n",
    "    fig = plt.figure(figsize=(12, 6))\n",
    "    ax = fig.add_subplot(1, 2, 1)\n",
    "    ax.plot(history.history[\"loss\"],'r-x', label=\"Train Loss\")\n",
    "    ax.plot(history.history[\"val_loss\"],'b-x', label=\"Validation Loss\")\n",
    "    ax.legend()\n",
    "    ax.set_title(modelnum + ' Cross Entropy Loss')\n",
    "    ax.grid(True)\n",
    "\n",
    "\n",
    "    ax = fig.add_subplot(1, 2, 2)\n",
    "    ax.plot(history.history[\"acc\"],'r-x', label=\"Train Accuracy\")\n",
    "    ax.plot(history.history[\"val_acc\"],'b-x', label=\"Validation Accuracy\")\n",
    "    ax.legend()\n",
    "    ax.set_title(modelnum + ' Accuracy')\n",
    "    ax.grid(True)"
   ]
  },
  {
   "cell_type": "code",
   "execution_count": 3,
   "metadata": {
    "collapsed": true
   },
   "outputs": [],
   "source": [
    "dataDir='.'\n",
    "valAnnFile='{}/annotations/instances_{}.json'.format(dataDir,'val2017')\n",
    "trainAnnFile='{}/annotations/instances_{}.json'.format(dataDir,'train2017')\n",
    "train_path='{}/images/{}/'.format(dataDir,'train2017')\n",
    "val_path='{}/images/{}/'.format(dataDir,'val2017')\n",
    "test_path='{}/images/{}/'.format(dataDir,'test2017')\n",
    "\n",
    "filename_train = 'train_info.csv'\n",
    "filename_val = 'val_info.csv'\n",
    "\n",
    "models_dir_x = './modelsx/'\n",
    "models_dir_v = './modelsv/'\n",
    "\n",
    "## TEST: check number of files in directory: \n",
    "# print(len([name for name in os.listdir(train_path) if os.path.isfile(train_path + name)]))"
   ]
  },
  {
   "cell_type": "code",
   "execution_count": 4,
   "metadata": {
    "collapsed": false
   },
   "outputs": [
    {
     "name": "stdout",
     "output_type": "stream",
     "text": [
      "loading annotations into memory...\n",
      "Done (t=24.54s)\n",
      "creating index...\n",
      "index created!\n",
      "loading annotations into memory...\n",
      "Done (t=0.69s)\n",
      "creating index...\n",
      "index created!\n"
     ]
    }
   ],
   "source": [
    "coco_train=COCO(trainAnnFile)\n",
    "coco_val=COCO(valAnnFile)"
   ]
  },
  {
   "cell_type": "code",
   "execution_count": 5,
   "metadata": {
    "collapsed": false
   },
   "outputs": [],
   "source": [
    "# Annotations:\n",
    "anns_train = coco_train.loadAnns(coco_train.getAnnIds())\n",
    "anns_val = coco_val.loadAnns(coco_val.getAnnIds())\n",
    "\n",
    "# Categories:\n",
    "cats_train = coco_train.loadCats(coco_train.getCatIds())\n",
    "cats_val = coco_val.loadCats(coco_val.getCatIds())\n",
    "\n",
    "# Images:\n",
    "imgs_train = coco_train.loadImgs(coco_train.getImgIds())\n",
    "imgs_val = coco_val.loadImgs(coco_val.getImgIds())"
   ]
  },
  {
   "cell_type": "markdown",
   "metadata": {},
   "source": [
    "Taking a look at the sizes of images:"
   ]
  },
  {
   "cell_type": "code",
   "execution_count": 6,
   "metadata": {
    "collapsed": false
   },
   "outputs": [
    {
     "name": "stdout",
     "output_type": "stream",
     "text": [
      "[640, 640]\n",
      "[51, 72]\n",
      "(533.5, 560.0)\n"
     ]
    }
   ],
   "source": [
    "sizes = [[img['height'], img['width']] for img in imgs_train]\n",
    "print(max(sizes[:]))\n",
    "print(min(sizes[:]))\n",
    "print(np.mean(sizes[0]),np.mean(sizes[1]))"
   ]
  },
  {
   "cell_type": "markdown",
   "metadata": {},
   "source": [
    "And the possible categories list:"
   ]
  },
  {
   "cell_type": "code",
   "execution_count": 7,
   "metadata": {
    "collapsed": false
   },
   "outputs": [
    {
     "name": "stdout",
     "output_type": "stream",
     "text": [
      "COCO categories: \n",
      "person, bicycle, car, motorcycle, airplane, bus, train, truck, boat, traffic light, fire hydrant, stop sign, parking meter, bench, bird, cat, dog, horse, sheep, cow, elephant, bear, zebra, giraffe, backpack, umbrella, handbag, tie, suitcase, frisbee, skis, snowboard, sports ball, kite, baseball bat, baseball glove, skateboard, surfboard, tennis racket, bottle, wine glass, cup, fork, knife, spoon, bowl, banana, apple, sandwich, orange, broccoli, carrot, hot dog, pizza, donut, cake, chair, couch, potted plant, bed, dining table, toilet, tv, laptop, mouse, remote, keyboard, cell phone, microwave, oven, toaster, sink, refrigerator, book, clock, vase, scissors, teddy bear, hair drier, toothbrush\n",
      "\n"
     ]
    }
   ],
   "source": [
    "nms=[cat['name'] for cat in cats_train]\n",
    "print('COCO categories: \\n{}\\n'.format(', '.join(nms)))"
   ]
  },
  {
   "cell_type": "markdown",
   "metadata": {},
   "source": [
    "Here we get the ids for all images, from the image objects, so there are no duplicates - only unique images"
   ]
  },
  {
   "cell_type": "code",
   "execution_count": 8,
   "metadata": {
    "collapsed": false
   },
   "outputs": [],
   "source": [
    "# Get list of image id's for train & validation sets\n",
    "# Use to match with image id's and get the various categories.\n",
    "img_ids_train = [img['id'] for img in imgs_train]\n",
    "img_ids_val = [img['id'] for img in imgs_val]"
   ]
  },
  {
   "cell_type": "markdown",
   "metadata": {},
   "source": [
    "The following function is definitely not optimized or vectorized but it was the best we could come up with in a breif period to be able to concatenate categories with the correct images, and obtain the most common object instance to make this what we classify the image as. The docstring explains the functionality. "
   ]
  },
  {
   "cell_type": "code",
   "execution_count": 9,
   "metadata": {
    "collapsed": false
   },
   "outputs": [],
   "source": [
    "# creates a sorted data frame to hold categories:\n",
    "def get_labels_by_imgid(annotations, image_set):\n",
    "    \"\"\"\n",
    "    get_labels_by_imgid gets the categories associated with each\n",
    "    image, and then labels that image with the most common category\n",
    "    id (or most common instance of an object in the image).\n",
    "    \n",
    "    INPUTS: annotation set, image set (from getAnns/getImgs)\n",
    "    \n",
    "    RETURNS: Pandas DF with categories & id's\n",
    "    \"\"\"\n",
    "    print('loading image annotations...')\n",
    "    # for local machine, only use 5000 images in train/val/test\n",
    "    if len(image_set) > 5000:\n",
    "        image_set = image_set[0:10000]\n",
    "    # get the image id's from the specified image set (train/test/val)\n",
    "    image_ids = [img['id'] for img in image_set]\n",
    "    # initialize dataframe\n",
    "    df = pd.DataFrame(columns=['id','categories'])\n",
    "    # enumerate the image id's list to obtain the categories associated with id's\n",
    "    for (i,val) in enumerate(image_ids):\n",
    "        ids = [annotations[imgid]['category_id'] for imgid, x in enumerate(annotations) if x['image_id'] == val]\n",
    "        df.loc[i] = val, stats.mode(ids)[0][0] if len(ids)>0 else 0\n",
    "    print('Done.')\n",
    "    return df"
   ]
  },
  {
   "cell_type": "code",
   "execution_count": 10,
   "metadata": {
    "collapsed": false
   },
   "outputs": [],
   "source": [
    "exists = os.path.isfile(filename_train)\n",
    "if exists:\n",
    "    train_data = pd.read_csv(filename_train,index_col=0)\n",
    "else:\n",
    "    train_data = get_labels_by_imgid(anns_train, imgs_train)\n",
    "    train_data.to_csv(filename_train)"
   ]
  },
  {
   "cell_type": "code",
   "execution_count": 11,
   "metadata": {
    "collapsed": false
   },
   "outputs": [],
   "source": [
    "exists = os.path.isfile(filename_val)\n",
    "if exists:\n",
    "    val_data = pd.read_csv(filename_val,index_col=0)\n",
    "else:\n",
    "    val_data = get_labels_by_imgid(anns_val, imgs_val)\n",
    "    val_data.to_csv(filename_val)"
   ]
  },
  {
   "cell_type": "markdown",
   "metadata": {},
   "source": [
    "Check the data frames:"
   ]
  },
  {
   "cell_type": "code",
   "execution_count": 12,
   "metadata": {
    "collapsed": false
   },
   "outputs": [
    {
     "name": "stdout",
     "output_type": "stream",
     "text": [
      "       id  categories\n",
      "0  262145           1\n",
      "1  262146           1\n",
      "2  524291          18\n",
      "3  262148           1\n",
      "4  524297           1\n",
      "       id  categories\n",
      "0  532481           3\n",
      "1   66231           1\n",
      "2  458755           1\n",
      "3  245764          17\n",
      "4  385029          44\n"
     ]
    }
   ],
   "source": [
    "print(train_data.head())\n",
    "print(val_data.head())"
   ]
  },
  {
   "cell_type": "markdown",
   "metadata": {},
   "source": [
    "These functions change the id's to filenames by adding the necessary 0's and extension to create the filename string. This just makes it easier to work with the above dataframe."
   ]
  },
  {
   "cell_type": "code",
   "execution_count": 13,
   "metadata": {
    "collapsed": true
   },
   "outputs": [],
   "source": [
    "def change_to_filename(x):\n",
    "    return (12-len(str(x)))*'0'  + str(x) + '.jpg'\n",
    "\n",
    "def get_filenames_array(arr):\n",
    "    return np.array([change_to_filename(x) for x in arr])"
   ]
  },
  {
   "cell_type": "code",
   "execution_count": 14,
   "metadata": {
    "collapsed": false
   },
   "outputs": [],
   "source": [
    "train_filenames = get_filenames_array(train_data['id'])\n",
    "val_filenames = get_filenames_array(val_data['id'])"
   ]
  },
  {
   "cell_type": "code",
   "execution_count": 15,
   "metadata": {
    "collapsed": false
   },
   "outputs": [],
   "source": [
    "img_height = img_width = 256"
   ]
  },
  {
   "cell_type": "markdown",
   "metadata": {},
   "source": [
    "The following two functions are redundant, but essential. There is only one parameter since I tried to use multicore processing to speed up the image preprocessing. Using the concurrent futures module to create a ProcessPoolExecutor instance, I was able to use the map function to call the `make_image_data_*` function on the respective set. The reason for the redundancy is the fact that using multiple arguements is difficult, thus I made functions for each set instead of requiring a path argument."
   ]
  },
  {
   "cell_type": "code",
   "execution_count": 16,
   "metadata": {
    "collapsed": false
   },
   "outputs": [],
   "source": [
    "def make_image_data_train(filename):\n",
    "    img = cv2.imread(train_path + filename)\n",
    "    img = cv2.resize(img,(img_width, img_height), interpolation = cv2.INTER_CUBIC)        \n",
    "    if len(img.shape) == 3:\n",
    "        img = np.array(cv2.cvtColor(img, cv2.COLOR_BGR2RGB))\n",
    "    else:\n",
    "        img = np.stack((img,)*3, axis=-1)\n",
    "    return img"
   ]
  },
  {
   "cell_type": "code",
   "execution_count": 17,
   "metadata": {
    "collapsed": true
   },
   "outputs": [],
   "source": [
    "def make_image_data_val(filename):\n",
    "    img = cv2.imread(val_path + filename)\n",
    "    img = cv2.resize(img,(img_width, img_height), interpolation = cv2.INTER_CUBIC)        \n",
    "    if len(img.shape) == 3:\n",
    "        img = np.array(cv2.cvtColor(img, cv2.COLOR_BGR2RGB))\n",
    "    else:\n",
    "        img = np.stack((img,)*3, axis=-1)\n",
    "    return img"
   ]
  },
  {
   "cell_type": "code",
   "execution_count": 18,
   "metadata": {
    "collapsed": false
   },
   "outputs": [],
   "source": [
    "x_train = []\n",
    "with concurrent.futures.ProcessPoolExecutor() as executor:\n",
    "    for imagedata in executor.map(make_image_data_train, train_filenames):\n",
    "        x_train.append(imagedata)\n",
    "    x_train = np.array(x_train)"
   ]
  },
  {
   "cell_type": "code",
   "execution_count": 19,
   "metadata": {
    "collapsed": false
   },
   "outputs": [],
   "source": [
    "x_val = []\n",
    "with concurrent.futures.ProcessPoolExecutor() as executor:\n",
    "    for imagedata in executor.map(make_image_data_val, val_filenames):\n",
    "        x_val.append(imagedata)\n",
    "    x_val = np.array(x_val)"
   ]
  },
  {
   "cell_type": "code",
   "execution_count": 20,
   "metadata": {
    "collapsed": false
   },
   "outputs": [
    {
     "name": "stdout",
     "output_type": "stream",
     "text": [
      "(10000, 256, 256, 3)\n",
      "(5000, 256, 256, 3)\n"
     ]
    }
   ],
   "source": [
    "print(x_train.shape)\n",
    "print(x_val.shape)"
   ]
  },
  {
   "cell_type": "markdown",
   "metadata": {},
   "source": [
    "Note, we are using 10000 images as a training set, but the validation split will be `80%`|`20%` (8000, 2000). The 'test' set is actually the validation set as provided by COCO, which includes 5000 labeled images. This set will give us a control test to evaluate for each model."
   ]
  },
  {
   "cell_type": "code",
   "execution_count": 21,
   "metadata": {
    "collapsed": true
   },
   "outputs": [],
   "source": [
    "datagen = ImageDataGenerator(rescale=1./255.,\n",
    "                             validation_split=0.2,\n",
    "                             rotation_range=15,\n",
    "                             width_shift_range=0.05,\n",
    "                             shear_range=0.25,\n",
    "                             height_shift_range=0.05,\n",
    "                             zoom_range=0.05)"
   ]
  },
  {
   "cell_type": "markdown",
   "metadata": {},
   "source": [
    "There are 91 classes because some of the images actually had no categories associated with them, so we labeled these as category 0. "
   ]
  },
  {
   "cell_type": "code",
   "execution_count": 22,
   "metadata": {
    "collapsed": true
   },
   "outputs": [],
   "source": [
    "number_of_classes = 91;\n",
    "y_train = keras.utils.to_categorical(train_data['categories'], number_of_classes)\n",
    "y_val = keras.utils.to_categorical(val_data['categories'], number_of_classes)"
   ]
  },
  {
   "cell_type": "code",
   "execution_count": 23,
   "metadata": {
    "collapsed": false
   },
   "outputs": [],
   "source": [
    "batch_size = 16 \n",
    "train_gen = datagen.flow(x_train,\n",
    "                            y_train,\n",
    "                            subset= \"training\",\n",
    "                            shuffle = True,\n",
    "                            batch_size=batch_size)\n",
    "\n",
    "val_gen = datagen.flow(x_train,\n",
    "                            y_train,\n",
    "                            subset = \"validation\",\n",
    "                            shuffle = False,\n",
    "                            batch_size=batch_size)"
   ]
  },
  {
   "cell_type": "markdown",
   "metadata": {},
   "source": [
    "### XCeption V1"
   ]
  },
  {
   "cell_type": "code",
   "execution_count": 54,
   "metadata": {
    "collapsed": true
   },
   "outputs": [],
   "source": [
    "from keras.applications import Xception\n",
    "from keras import Model"
   ]
  },
  {
   "cell_type": "code",
   "execution_count": 55,
   "metadata": {
    "collapsed": false
   },
   "outputs": [
    {
     "name": "stdout",
     "output_type": "stream",
     "text": [
      "__________________________________________________________________________________________________\n",
      "Layer (type)                    Output Shape         Param #     Connected to                     \n",
      "==================================================================================================\n",
      "input_4 (InputLayer)            (None, 256, 256, 3)  0                                            \n",
      "__________________________________________________________________________________________________\n",
      "block1_conv1 (Conv2D)           (None, 127, 127, 32) 864         input_4[0][0]                    \n",
      "__________________________________________________________________________________________________\n",
      "block1_conv1_bn (BatchNormaliza (None, 127, 127, 32) 128         block1_conv1[0][0]               \n",
      "__________________________________________________________________________________________________\n",
      "block1_conv1_act (Activation)   (None, 127, 127, 32) 0           block1_conv1_bn[0][0]            \n",
      "__________________________________________________________________________________________________\n",
      "block1_conv2 (Conv2D)           (None, 125, 125, 64) 18432       block1_conv1_act[0][0]           \n",
      "__________________________________________________________________________________________________\n",
      "block1_conv2_bn (BatchNormaliza (None, 125, 125, 64) 256         block1_conv2[0][0]               \n",
      "__________________________________________________________________________________________________\n",
      "block1_conv2_act (Activation)   (None, 125, 125, 64) 0           block1_conv2_bn[0][0]            \n",
      "__________________________________________________________________________________________________\n",
      "block2_sepconv1 (SeparableConv2 (None, 125, 125, 128 8768        block1_conv2_act[0][0]           \n",
      "__________________________________________________________________________________________________\n",
      "block2_sepconv1_bn (BatchNormal (None, 125, 125, 128 512         block2_sepconv1[0][0]            \n",
      "__________________________________________________________________________________________________\n",
      "block2_sepconv2_act (Activation (None, 125, 125, 128 0           block2_sepconv1_bn[0][0]         \n",
      "__________________________________________________________________________________________________\n",
      "block2_sepconv2 (SeparableConv2 (None, 125, 125, 128 17536       block2_sepconv2_act[0][0]        \n",
      "__________________________________________________________________________________________________\n",
      "block2_sepconv2_bn (BatchNormal (None, 125, 125, 128 512         block2_sepconv2[0][0]            \n",
      "__________________________________________________________________________________________________\n",
      "conv2d_13 (Conv2D)              (None, 63, 63, 128)  8192        block1_conv2_act[0][0]           \n",
      "__________________________________________________________________________________________________\n",
      "block2_pool (MaxPooling2D)      (None, 63, 63, 128)  0           block2_sepconv2_bn[0][0]         \n",
      "__________________________________________________________________________________________________\n",
      "batch_normalization_13 (BatchNo (None, 63, 63, 128)  512         conv2d_13[0][0]                  \n",
      "__________________________________________________________________________________________________\n",
      "add_37 (Add)                    (None, 63, 63, 128)  0           block2_pool[0][0]                \n",
      "                                                                 batch_normalization_13[0][0]     \n",
      "__________________________________________________________________________________________________\n",
      "block3_sepconv1_act (Activation (None, 63, 63, 128)  0           add_37[0][0]                     \n",
      "__________________________________________________________________________________________________\n",
      "block3_sepconv1 (SeparableConv2 (None, 63, 63, 256)  33920       block3_sepconv1_act[0][0]        \n",
      "__________________________________________________________________________________________________\n",
      "block3_sepconv1_bn (BatchNormal (None, 63, 63, 256)  1024        block3_sepconv1[0][0]            \n",
      "__________________________________________________________________________________________________\n",
      "block3_sepconv2_act (Activation (None, 63, 63, 256)  0           block3_sepconv1_bn[0][0]         \n",
      "__________________________________________________________________________________________________\n",
      "block3_sepconv2 (SeparableConv2 (None, 63, 63, 256)  67840       block3_sepconv2_act[0][0]        \n",
      "__________________________________________________________________________________________________\n",
      "block3_sepconv2_bn (BatchNormal (None, 63, 63, 256)  1024        block3_sepconv2[0][0]            \n",
      "__________________________________________________________________________________________________\n",
      "conv2d_14 (Conv2D)              (None, 32, 32, 256)  32768       add_37[0][0]                     \n",
      "__________________________________________________________________________________________________\n",
      "block3_pool (MaxPooling2D)      (None, 32, 32, 256)  0           block3_sepconv2_bn[0][0]         \n",
      "__________________________________________________________________________________________________\n",
      "batch_normalization_14 (BatchNo (None, 32, 32, 256)  1024        conv2d_14[0][0]                  \n",
      "__________________________________________________________________________________________________\n",
      "add_38 (Add)                    (None, 32, 32, 256)  0           block3_pool[0][0]                \n",
      "                                                                 batch_normalization_14[0][0]     \n",
      "__________________________________________________________________________________________________\n",
      "block4_sepconv1_act (Activation (None, 32, 32, 256)  0           add_38[0][0]                     \n",
      "__________________________________________________________________________________________________\n",
      "block4_sepconv1 (SeparableConv2 (None, 32, 32, 728)  188672      block4_sepconv1_act[0][0]        \n",
      "__________________________________________________________________________________________________\n",
      "block4_sepconv1_bn (BatchNormal (None, 32, 32, 728)  2912        block4_sepconv1[0][0]            \n",
      "__________________________________________________________________________________________________\n",
      "block4_sepconv2_act (Activation (None, 32, 32, 728)  0           block4_sepconv1_bn[0][0]         \n",
      "__________________________________________________________________________________________________\n",
      "block4_sepconv2 (SeparableConv2 (None, 32, 32, 728)  536536      block4_sepconv2_act[0][0]        \n",
      "__________________________________________________________________________________________________\n",
      "block4_sepconv2_bn (BatchNormal (None, 32, 32, 728)  2912        block4_sepconv2[0][0]            \n",
      "__________________________________________________________________________________________________\n",
      "conv2d_15 (Conv2D)              (None, 16, 16, 728)  186368      add_38[0][0]                     \n",
      "__________________________________________________________________________________________________\n",
      "block4_pool (MaxPooling2D)      (None, 16, 16, 728)  0           block4_sepconv2_bn[0][0]         \n",
      "__________________________________________________________________________________________________\n",
      "batch_normalization_15 (BatchNo (None, 16, 16, 728)  2912        conv2d_15[0][0]                  \n",
      "__________________________________________________________________________________________________\n",
      "add_39 (Add)                    (None, 16, 16, 728)  0           block4_pool[0][0]                \n",
      "                                                                 batch_normalization_15[0][0]     \n",
      "__________________________________________________________________________________________________\n",
      "block5_sepconv1_act (Activation (None, 16, 16, 728)  0           add_39[0][0]                     \n",
      "__________________________________________________________________________________________________\n",
      "block5_sepconv1 (SeparableConv2 (None, 16, 16, 728)  536536      block5_sepconv1_act[0][0]        \n",
      "__________________________________________________________________________________________________\n",
      "block5_sepconv1_bn (BatchNormal (None, 16, 16, 728)  2912        block5_sepconv1[0][0]            \n",
      "__________________________________________________________________________________________________\n",
      "block5_sepconv2_act (Activation (None, 16, 16, 728)  0           block5_sepconv1_bn[0][0]         \n",
      "__________________________________________________________________________________________________\n",
      "block5_sepconv2 (SeparableConv2 (None, 16, 16, 728)  536536      block5_sepconv2_act[0][0]        \n",
      "__________________________________________________________________________________________________\n",
      "block5_sepconv2_bn (BatchNormal (None, 16, 16, 728)  2912        block5_sepconv2[0][0]            \n",
      "__________________________________________________________________________________________________\n",
      "block5_sepconv3_act (Activation (None, 16, 16, 728)  0           block5_sepconv2_bn[0][0]         \n",
      "__________________________________________________________________________________________________\n",
      "block5_sepconv3 (SeparableConv2 (None, 16, 16, 728)  536536      block5_sepconv3_act[0][0]        \n",
      "__________________________________________________________________________________________________\n",
      "block5_sepconv3_bn (BatchNormal (None, 16, 16, 728)  2912        block5_sepconv3[0][0]            \n",
      "__________________________________________________________________________________________________\n",
      "add_40 (Add)                    (None, 16, 16, 728)  0           block5_sepconv3_bn[0][0]         \n",
      "                                                                 add_39[0][0]                     \n",
      "__________________________________________________________________________________________________\n",
      "block6_sepconv1_act (Activation (None, 16, 16, 728)  0           add_40[0][0]                     \n",
      "__________________________________________________________________________________________________\n",
      "block6_sepconv1 (SeparableConv2 (None, 16, 16, 728)  536536      block6_sepconv1_act[0][0]        \n",
      "__________________________________________________________________________________________________\n",
      "block6_sepconv1_bn (BatchNormal (None, 16, 16, 728)  2912        block6_sepconv1[0][0]            \n",
      "__________________________________________________________________________________________________\n",
      "block6_sepconv2_act (Activation (None, 16, 16, 728)  0           block6_sepconv1_bn[0][0]         \n",
      "__________________________________________________________________________________________________\n",
      "block6_sepconv2 (SeparableConv2 (None, 16, 16, 728)  536536      block6_sepconv2_act[0][0]        \n",
      "__________________________________________________________________________________________________\n",
      "block6_sepconv2_bn (BatchNormal (None, 16, 16, 728)  2912        block6_sepconv2[0][0]            \n",
      "__________________________________________________________________________________________________\n",
      "block6_sepconv3_act (Activation (None, 16, 16, 728)  0           block6_sepconv2_bn[0][0]         \n",
      "__________________________________________________________________________________________________\n",
      "block6_sepconv3 (SeparableConv2 (None, 16, 16, 728)  536536      block6_sepconv3_act[0][0]        \n",
      "__________________________________________________________________________________________________\n",
      "block6_sepconv3_bn (BatchNormal (None, 16, 16, 728)  2912        block6_sepconv3[0][0]            \n",
      "__________________________________________________________________________________________________\n",
      "add_41 (Add)                    (None, 16, 16, 728)  0           block6_sepconv3_bn[0][0]         \n",
      "                                                                 add_40[0][0]                     \n",
      "__________________________________________________________________________________________________\n",
      "block7_sepconv1_act (Activation (None, 16, 16, 728)  0           add_41[0][0]                     \n",
      "__________________________________________________________________________________________________\n",
      "block7_sepconv1 (SeparableConv2 (None, 16, 16, 728)  536536      block7_sepconv1_act[0][0]        \n",
      "__________________________________________________________________________________________________\n",
      "block7_sepconv1_bn (BatchNormal (None, 16, 16, 728)  2912        block7_sepconv1[0][0]            \n",
      "__________________________________________________________________________________________________\n",
      "block7_sepconv2_act (Activation (None, 16, 16, 728)  0           block7_sepconv1_bn[0][0]         \n",
      "__________________________________________________________________________________________________\n",
      "block7_sepconv2 (SeparableConv2 (None, 16, 16, 728)  536536      block7_sepconv2_act[0][0]        \n",
      "__________________________________________________________________________________________________\n",
      "block7_sepconv2_bn (BatchNormal (None, 16, 16, 728)  2912        block7_sepconv2[0][0]            \n",
      "__________________________________________________________________________________________________\n",
      "block7_sepconv3_act (Activation (None, 16, 16, 728)  0           block7_sepconv2_bn[0][0]         \n",
      "__________________________________________________________________________________________________\n",
      "block7_sepconv3 (SeparableConv2 (None, 16, 16, 728)  536536      block7_sepconv3_act[0][0]        \n",
      "__________________________________________________________________________________________________\n",
      "block7_sepconv3_bn (BatchNormal (None, 16, 16, 728)  2912        block7_sepconv3[0][0]            \n",
      "__________________________________________________________________________________________________\n",
      "add_42 (Add)                    (None, 16, 16, 728)  0           block7_sepconv3_bn[0][0]         \n",
      "                                                                 add_41[0][0]                     \n",
      "__________________________________________________________________________________________________\n",
      "block8_sepconv1_act (Activation (None, 16, 16, 728)  0           add_42[0][0]                     \n",
      "__________________________________________________________________________________________________\n",
      "block8_sepconv1 (SeparableConv2 (None, 16, 16, 728)  536536      block8_sepconv1_act[0][0]        \n",
      "__________________________________________________________________________________________________\n",
      "block8_sepconv1_bn (BatchNormal (None, 16, 16, 728)  2912        block8_sepconv1[0][0]            \n",
      "__________________________________________________________________________________________________\n",
      "block8_sepconv2_act (Activation (None, 16, 16, 728)  0           block8_sepconv1_bn[0][0]         \n",
      "__________________________________________________________________________________________________\n",
      "block8_sepconv2 (SeparableConv2 (None, 16, 16, 728)  536536      block8_sepconv2_act[0][0]        \n",
      "__________________________________________________________________________________________________\n",
      "block8_sepconv2_bn (BatchNormal (None, 16, 16, 728)  2912        block8_sepconv2[0][0]            \n",
      "__________________________________________________________________________________________________\n",
      "block8_sepconv3_act (Activation (None, 16, 16, 728)  0           block8_sepconv2_bn[0][0]         \n",
      "__________________________________________________________________________________________________\n",
      "block8_sepconv3 (SeparableConv2 (None, 16, 16, 728)  536536      block8_sepconv3_act[0][0]        \n",
      "__________________________________________________________________________________________________\n",
      "block8_sepconv3_bn (BatchNormal (None, 16, 16, 728)  2912        block8_sepconv3[0][0]            \n",
      "__________________________________________________________________________________________________\n",
      "add_43 (Add)                    (None, 16, 16, 728)  0           block8_sepconv3_bn[0][0]         \n",
      "                                                                 add_42[0][0]                     \n",
      "__________________________________________________________________________________________________\n",
      "block9_sepconv1_act (Activation (None, 16, 16, 728)  0           add_43[0][0]                     \n",
      "__________________________________________________________________________________________________\n",
      "block9_sepconv1 (SeparableConv2 (None, 16, 16, 728)  536536      block9_sepconv1_act[0][0]        \n",
      "__________________________________________________________________________________________________\n",
      "block9_sepconv1_bn (BatchNormal (None, 16, 16, 728)  2912        block9_sepconv1[0][0]            \n",
      "__________________________________________________________________________________________________\n",
      "block9_sepconv2_act (Activation (None, 16, 16, 728)  0           block9_sepconv1_bn[0][0]         \n",
      "__________________________________________________________________________________________________\n",
      "block9_sepconv2 (SeparableConv2 (None, 16, 16, 728)  536536      block9_sepconv2_act[0][0]        \n",
      "__________________________________________________________________________________________________\n",
      "block9_sepconv2_bn (BatchNormal (None, 16, 16, 728)  2912        block9_sepconv2[0][0]            \n",
      "__________________________________________________________________________________________________\n",
      "block9_sepconv3_act (Activation (None, 16, 16, 728)  0           block9_sepconv2_bn[0][0]         \n",
      "__________________________________________________________________________________________________\n",
      "block9_sepconv3 (SeparableConv2 (None, 16, 16, 728)  536536      block9_sepconv3_act[0][0]        \n",
      "__________________________________________________________________________________________________\n",
      "block9_sepconv3_bn (BatchNormal (None, 16, 16, 728)  2912        block9_sepconv3[0][0]            \n",
      "__________________________________________________________________________________________________\n",
      "add_44 (Add)                    (None, 16, 16, 728)  0           block9_sepconv3_bn[0][0]         \n",
      "                                                                 add_43[0][0]                     \n",
      "__________________________________________________________________________________________________\n",
      "block10_sepconv1_act (Activatio (None, 16, 16, 728)  0           add_44[0][0]                     \n",
      "__________________________________________________________________________________________________\n",
      "block10_sepconv1 (SeparableConv (None, 16, 16, 728)  536536      block10_sepconv1_act[0][0]       \n",
      "__________________________________________________________________________________________________\n",
      "block10_sepconv1_bn (BatchNorma (None, 16, 16, 728)  2912        block10_sepconv1[0][0]           \n",
      "__________________________________________________________________________________________________\n",
      "block10_sepconv2_act (Activatio (None, 16, 16, 728)  0           block10_sepconv1_bn[0][0]        \n",
      "__________________________________________________________________________________________________\n",
      "block10_sepconv2 (SeparableConv (None, 16, 16, 728)  536536      block10_sepconv2_act[0][0]       \n",
      "__________________________________________________________________________________________________\n",
      "block10_sepconv2_bn (BatchNorma (None, 16, 16, 728)  2912        block10_sepconv2[0][0]           \n",
      "__________________________________________________________________________________________________\n",
      "block10_sepconv3_act (Activatio (None, 16, 16, 728)  0           block10_sepconv2_bn[0][0]        \n",
      "__________________________________________________________________________________________________\n",
      "block10_sepconv3 (SeparableConv (None, 16, 16, 728)  536536      block10_sepconv3_act[0][0]       \n",
      "__________________________________________________________________________________________________\n",
      "block10_sepconv3_bn (BatchNorma (None, 16, 16, 728)  2912        block10_sepconv3[0][0]           \n",
      "__________________________________________________________________________________________________\n",
      "add_45 (Add)                    (None, 16, 16, 728)  0           block10_sepconv3_bn[0][0]        \n",
      "                                                                 add_44[0][0]                     \n",
      "__________________________________________________________________________________________________\n",
      "block11_sepconv1_act (Activatio (None, 16, 16, 728)  0           add_45[0][0]                     \n",
      "__________________________________________________________________________________________________\n",
      "block11_sepconv1 (SeparableConv (None, 16, 16, 728)  536536      block11_sepconv1_act[0][0]       \n",
      "__________________________________________________________________________________________________\n",
      "block11_sepconv1_bn (BatchNorma (None, 16, 16, 728)  2912        block11_sepconv1[0][0]           \n",
      "__________________________________________________________________________________________________\n",
      "block11_sepconv2_act (Activatio (None, 16, 16, 728)  0           block11_sepconv1_bn[0][0]        \n",
      "__________________________________________________________________________________________________\n",
      "block11_sepconv2 (SeparableConv (None, 16, 16, 728)  536536      block11_sepconv2_act[0][0]       \n",
      "__________________________________________________________________________________________________\n",
      "block11_sepconv2_bn (BatchNorma (None, 16, 16, 728)  2912        block11_sepconv2[0][0]           \n",
      "__________________________________________________________________________________________________\n",
      "block11_sepconv3_act (Activatio (None, 16, 16, 728)  0           block11_sepconv2_bn[0][0]        \n",
      "__________________________________________________________________________________________________\n",
      "block11_sepconv3 (SeparableConv (None, 16, 16, 728)  536536      block11_sepconv3_act[0][0]       \n",
      "__________________________________________________________________________________________________\n",
      "block11_sepconv3_bn (BatchNorma (None, 16, 16, 728)  2912        block11_sepconv3[0][0]           \n",
      "__________________________________________________________________________________________________\n",
      "add_46 (Add)                    (None, 16, 16, 728)  0           block11_sepconv3_bn[0][0]        \n",
      "                                                                 add_45[0][0]                     \n",
      "__________________________________________________________________________________________________\n",
      "block12_sepconv1_act (Activatio (None, 16, 16, 728)  0           add_46[0][0]                     \n",
      "__________________________________________________________________________________________________\n",
      "block12_sepconv1 (SeparableConv (None, 16, 16, 728)  536536      block12_sepconv1_act[0][0]       \n",
      "__________________________________________________________________________________________________\n",
      "block12_sepconv1_bn (BatchNorma (None, 16, 16, 728)  2912        block12_sepconv1[0][0]           \n",
      "__________________________________________________________________________________________________\n",
      "block12_sepconv2_act (Activatio (None, 16, 16, 728)  0           block12_sepconv1_bn[0][0]        \n",
      "__________________________________________________________________________________________________\n",
      "block12_sepconv2 (SeparableConv (None, 16, 16, 728)  536536      block12_sepconv2_act[0][0]       \n",
      "__________________________________________________________________________________________________\n",
      "block12_sepconv2_bn (BatchNorma (None, 16, 16, 728)  2912        block12_sepconv2[0][0]           \n",
      "__________________________________________________________________________________________________\n",
      "block12_sepconv3_act (Activatio (None, 16, 16, 728)  0           block12_sepconv2_bn[0][0]        \n",
      "__________________________________________________________________________________________________\n",
      "block12_sepconv3 (SeparableConv (None, 16, 16, 728)  536536      block12_sepconv3_act[0][0]       \n",
      "__________________________________________________________________________________________________\n",
      "block12_sepconv3_bn (BatchNorma (None, 16, 16, 728)  2912        block12_sepconv3[0][0]           \n",
      "__________________________________________________________________________________________________\n",
      "add_47 (Add)                    (None, 16, 16, 728)  0           block12_sepconv3_bn[0][0]        \n",
      "                                                                 add_46[0][0]                     \n",
      "__________________________________________________________________________________________________\n",
      "block13_sepconv1_act (Activatio (None, 16, 16, 728)  0           add_47[0][0]                     \n",
      "__________________________________________________________________________________________________\n",
      "block13_sepconv1 (SeparableConv (None, 16, 16, 728)  536536      block13_sepconv1_act[0][0]       \n",
      "__________________________________________________________________________________________________\n",
      "block13_sepconv1_bn (BatchNorma (None, 16, 16, 728)  2912        block13_sepconv1[0][0]           \n",
      "__________________________________________________________________________________________________\n",
      "block13_sepconv2_act (Activatio (None, 16, 16, 728)  0           block13_sepconv1_bn[0][0]        \n",
      "__________________________________________________________________________________________________\n",
      "block13_sepconv2 (SeparableConv (None, 16, 16, 1024) 752024      block13_sepconv2_act[0][0]       \n",
      "__________________________________________________________________________________________________\n",
      "block13_sepconv2_bn (BatchNorma (None, 16, 16, 1024) 4096        block13_sepconv2[0][0]           \n",
      "__________________________________________________________________________________________________\n",
      "conv2d_16 (Conv2D)              (None, 8, 8, 1024)   745472      add_47[0][0]                     \n",
      "__________________________________________________________________________________________________\n",
      "block13_pool (MaxPooling2D)     (None, 8, 8, 1024)   0           block13_sepconv2_bn[0][0]        \n",
      "__________________________________________________________________________________________________\n",
      "batch_normalization_16 (BatchNo (None, 8, 8, 1024)   4096        conv2d_16[0][0]                  \n",
      "__________________________________________________________________________________________________\n",
      "add_48 (Add)                    (None, 8, 8, 1024)   0           block13_pool[0][0]               \n",
      "                                                                 batch_normalization_16[0][0]     \n",
      "__________________________________________________________________________________________________\n",
      "block14_sepconv1 (SeparableConv (None, 8, 8, 1536)   1582080     add_48[0][0]                     \n",
      "__________________________________________________________________________________________________\n",
      "block14_sepconv1_bn (BatchNorma (None, 8, 8, 1536)   6144        block14_sepconv1[0][0]           \n",
      "__________________________________________________________________________________________________\n",
      "block14_sepconv1_act (Activatio (None, 8, 8, 1536)   0           block14_sepconv1_bn[0][0]        \n",
      "__________________________________________________________________________________________________\n",
      "block14_sepconv2 (SeparableConv (None, 8, 8, 2048)   3159552     block14_sepconv1_act[0][0]       \n",
      "__________________________________________________________________________________________________\n",
      "block14_sepconv2_bn (BatchNorma (None, 8, 8, 2048)   8192        block14_sepconv2[0][0]           \n",
      "__________________________________________________________________________________________________\n",
      "block14_sepconv2_act (Activatio (None, 8, 8, 2048)   0           block14_sepconv2_bn[0][0]        \n",
      "__________________________________________________________________________________________________\n",
      "global_average_pooling2d_4 (Glo (None, 2048)         0           block14_sepconv2_act[0][0]       \n",
      "__________________________________________________________________________________________________\n",
      "dense_4 (Dense)                 (None, 91)           186459      global_average_pooling2d_4[0][0] \n",
      "==================================================================================================\n",
      "Total params: 21,047,939\n",
      "Trainable params: 20,993,411\n",
      "Non-trainable params: 54,528\n",
      "__________________________________________________________________________________________________\n"
     ]
    }
   ],
   "source": [
    "def create_model(inputsize):\n",
    "    optimizer_x = SGD(lr=.0005, momentum=0.9, decay=2.5e-5, nesterov=True)\n",
    "    base_model = Xception(input_shape=(inputsize, inputsize, 3), weights='imagenet', include_top=False)\n",
    "    # replace the fully connected layer to fit our application:\n",
    "    output = base_model.output\n",
    "    output = GlobalAveragePooling2D()(output)\n",
    "    output = Dense(number_of_classes, activation='softmax')(output)\n",
    "    model = Model(base_model.input, output)\n",
    "    model.compile(loss='categorical_crossentropy',\n",
    "                  optimizer=optimizer_x,\n",
    "                  metrics=['accuracy', 'top_k_categorical_accuracy'])\n",
    "    return model\n",
    "\n",
    "# top_model_path = models_dir_x+'topmodel_{epoch:02d}_{val_loss:.2f}.hdf5'\n",
    "callbacks_list = [\n",
    "#     ModelCheckpoint(top_model_path, monitor='val_acc', verbose=1, save_best_only=True),\n",
    "    EarlyStopping(monitor='val_loss', patience=4, verbose=1)\n",
    "]\n",
    "model = create_model(img_width)\n",
    "model.summary()"
   ]
  },
  {
   "cell_type": "markdown",
   "metadata": {},
   "source": [
    "We adjusted the learning rate and decay to fit our application. We have much less data to work with so choosing a faster learning rate for stochastic gradient descent will help us reach peak loss faster. The paper with specs for XCeption are here:\n",
    "\n",
    "[Xception: Deep Learning with Depthwise Separable Convolutions](https://arxiv.org/pdf/1610.02357.pdf)"
   ]
  },
  {
   "cell_type": "code",
   "execution_count": 56,
   "metadata": {
    "collapsed": false
   },
   "outputs": [],
   "source": [
    "exists_x = len(os.listdir(models_dir_x)) != 0"
   ]
  },
  {
   "cell_type": "code",
   "execution_count": 57,
   "metadata": {
    "collapsed": false,
    "scrolled": true
   },
   "outputs": [
    {
     "name": "stdout",
     "output_type": "stream",
     "text": [
      "Epoch 1/60\n",
      "500/500 [==============================] - 311s 622ms/step - loss: 3.0327 - acc: 0.3984 - top_k_categorical_accuracy: 0.5566 - val_loss: 2.6821 - val_acc: 0.4325 - val_top_k_categorical_accuracy: 0.6435\n",
      "Epoch 2/60\n",
      "500/500 [==============================] - 306s 612ms/step - loss: 2.4731 - acc: 0.4505 - top_k_categorical_accuracy: 0.6841 - val_loss: 2.2590 - val_acc: 0.5035 - val_top_k_categorical_accuracy: 0.7405\n",
      "Epoch 3/60\n",
      "500/500 [==============================] - 305s 611ms/step - loss: 2.1118 - acc: 0.5211 - top_k_categorical_accuracy: 0.7634 - val_loss: 1.9908 - val_acc: 0.5505 - val_top_k_categorical_accuracy: 0.7870\n",
      "Epoch 4/60\n",
      "500/500 [==============================] - 307s 614ms/step - loss: 1.8493 - acc: 0.5747 - top_k_categorical_accuracy: 0.8037 - val_loss: 1.8081 - val_acc: 0.5815 - val_top_k_categorical_accuracy: 0.8140\n",
      "Epoch 5/60\n",
      "500/500 [==============================] - 306s 611ms/step - loss: 1.6791 - acc: 0.6025 - top_k_categorical_accuracy: 0.8313 - val_loss: 1.7338 - val_acc: 0.5905 - val_top_k_categorical_accuracy: 0.8305\n",
      "Epoch 6/60\n",
      "500/500 [==============================] - 307s 614ms/step - loss: 1.5614 - acc: 0.6220 - top_k_categorical_accuracy: 0.8466 - val_loss: 1.6634 - val_acc: 0.6020 - val_top_k_categorical_accuracy: 0.8410\n",
      "Epoch 7/60\n",
      "500/500 [==============================] - 306s 613ms/step - loss: 1.4543 - acc: 0.6486 - top_k_categorical_accuracy: 0.8643 - val_loss: 1.6171 - val_acc: 0.6090 - val_top_k_categorical_accuracy: 0.8495\n",
      "Epoch 8/60\n",
      "500/500 [==============================] - 307s 615ms/step - loss: 1.3720 - acc: 0.6617 - top_k_categorical_accuracy: 0.8781 - val_loss: 1.5819 - val_acc: 0.6130 - val_top_k_categorical_accuracy: 0.8540\n",
      "Epoch 9/60\n",
      "500/500 [==============================] - 306s 613ms/step - loss: 1.3067 - acc: 0.6750 - top_k_categorical_accuracy: 0.8852 - val_loss: 1.5431 - val_acc: 0.6195 - val_top_k_categorical_accuracy: 0.8670\n",
      "Epoch 10/60\n",
      "500/500 [==============================] - 307s 614ms/step - loss: 1.2368 - acc: 0.6839 - top_k_categorical_accuracy: 0.8969 - val_loss: 1.5346 - val_acc: 0.6240 - val_top_k_categorical_accuracy: 0.8690\n",
      "Epoch 11/60\n",
      "500/500 [==============================] - 306s 612ms/step - loss: 1.1986 - acc: 0.6955 - top_k_categorical_accuracy: 0.8989 - val_loss: 1.5162 - val_acc: 0.6260 - val_top_k_categorical_accuracy: 0.8760\n",
      "Epoch 12/60\n",
      "500/500 [==============================] - 307s 614ms/step - loss: 1.1144 - acc: 0.7129 - top_k_categorical_accuracy: 0.9119 - val_loss: 1.5068 - val_acc: 0.6260 - val_top_k_categorical_accuracy: 0.8780\n",
      "Epoch 13/60\n",
      "500/500 [==============================] - 306s 613ms/step - loss: 1.0716 - acc: 0.7204 - top_k_categorical_accuracy: 0.9139 - val_loss: 1.5129 - val_acc: 0.6245 - val_top_k_categorical_accuracy: 0.8775\n",
      "Epoch 14/60\n",
      "500/500 [==============================] - 306s 612ms/step - loss: 1.0044 - acc: 0.7380 - top_k_categorical_accuracy: 0.9240 - val_loss: 1.4888 - val_acc: 0.6285 - val_top_k_categorical_accuracy: 0.8880\n",
      "Epoch 15/60\n",
      "500/500 [==============================] - 307s 614ms/step - loss: 0.9659 - acc: 0.7466 - top_k_categorical_accuracy: 0.9284 - val_loss: 1.4918 - val_acc: 0.6245 - val_top_k_categorical_accuracy: 0.8825\n",
      "Epoch 16/60\n",
      "500/500 [==============================] - 306s 612ms/step - loss: 0.9340 - acc: 0.7561 - top_k_categorical_accuracy: 0.9315 - val_loss: 1.5083 - val_acc: 0.6235 - val_top_k_categorical_accuracy: 0.8875\n",
      "Epoch 17/60\n",
      "500/500 [==============================] - 306s 612ms/step - loss: 0.8931 - acc: 0.7700 - top_k_categorical_accuracy: 0.9349 - val_loss: 1.5057 - val_acc: 0.6330 - val_top_k_categorical_accuracy: 0.8870\n",
      "Epoch 18/60\n",
      "500/500 [==============================] - 306s 613ms/step - loss: 0.8327 - acc: 0.7823 - top_k_categorical_accuracy: 0.9415 - val_loss: 1.4982 - val_acc: 0.6305 - val_top_k_categorical_accuracy: 0.8870\n",
      "Epoch 00018: early stopping\n",
      "Total time to train Xception V1: 5528.42734981\n"
     ]
    }
   ],
   "source": [
    "# check if model exists\n",
    "if exists_x: \n",
    "    print('Loading previous model...')\n",
    "    model = load_model(glob.glob(models_dir_x + '*Xception.hdf5')[0])\n",
    "    print('Xception Loaded.')\n",
    "else:\n",
    "    # train the model since no previous model exists.\n",
    "    epochs = 60\n",
    "    steps_train_data = train_gen.n//train_gen.batch_size\n",
    "    steps_val_data = val_gen.n//val_gen.batch_size\n",
    "    start = time.time()\n",
    "    model_trained = model.fit_generator(train_gen,\n",
    "                                       steps_per_epoch=steps_train_data,\n",
    "                                       epochs=epochs,\n",
    "                                       validation_data = val_gen,\n",
    "                                       validation_steps = steps_val_data,\n",
    "                                       callbacks=callbacks_list)\n",
    "    print('Total time to train Xception V1: {}'.format(time.time()-start))"
   ]
  },
  {
   "cell_type": "code",
   "execution_count": 58,
   "metadata": {
    "collapsed": true
   },
   "outputs": [],
   "source": [
    "model.save(models_dir_x+'topmodel_Xception.hdf5')"
   ]
  },
  {
   "cell_type": "code",
   "execution_count": 60,
   "metadata": {
    "collapsed": false
   },
   "outputs": [
    {
     "data": {
      "image/png": "[encoded data removed]",
      "text/plain": [
       "<matplotlib.figure.Figure at 0x7fda658ba6d0>"
      ]
     },
     "metadata": {
      "needs_background": "light"
     },
     "output_type": "display_data"
    }
   ],
   "source": [
    "plot_loss_accuracy(model_trained, 'Xception')"
   ]
  },
  {
   "cell_type": "markdown",
   "metadata": {},
   "source": [
    "#### Evaluation:"
   ]
  },
  {
   "cell_type": "code",
   "execution_count": 61,
   "metadata": {
    "collapsed": false
   },
   "outputs": [
    {
     "name": "stdout",
     "output_type": "stream",
     "text": [
      "5000/5000 [==============================] - 39s 8ms/step\n",
      "('XCeption V1 Test Loss:', 12.054959742736816)\n",
      "('XCeption V1 Accuracy:', 0.2416)\n",
      "('XCeption V1 Top-5 accuracy:', 0.8204)\n"
     ]
    }
   ],
   "source": [
    "score = model.evaluate(x_val, y_val, verbose=1)\n",
    "print('XCeption V1 Test Loss:', score[0])\n",
    "print('XCeption V1 Accuracy:', score[1])\n",
    "print('XCeption V1 Top-5 accuracy:', score[2])"
   ]
  },
  {
   "cell_type": "markdown",
   "metadata": {},
   "source": [
    "### VGG19"
   ]
  },
  {
   "cell_type": "markdown",
   "metadata": {},
   "source": [
    "VGG 19 utilizes 19 weight layers, and employs small filter, short stride functionality throughout the convolutional layers. The paper on VGG19 can be seen here:\n",
    "\n",
    "[Very Deep Convolutional Networks For Large-Scale Image Recognition](https://arxiv.org/pdf/1409.1556.pdf)"
   ]
  },
  {
   "cell_type": "code",
   "execution_count": 47,
   "metadata": {
    "collapsed": true
   },
   "outputs": [],
   "source": [
    "from keras.applications import VGG19"
   ]
  },
  {
   "cell_type": "code",
   "execution_count": 53,
   "metadata": {
    "collapsed": false,
    "scrolled": true
   },
   "outputs": [],
   "source": [
    "def create_vgg(num_classes, imgdim):\n",
    "    base_model = VGG19(input_shape=(imgdim, imgdim, 3), \n",
    "                       include_top=False, \n",
    "                       weights='imagenet')\n",
    "    # replace the fully connected layer to fit our application:\n",
    "    output = base_model.output\n",
    "    output = GlobalAveragePooling2D()(output)\n",
    "    output = Dense(num_classes, activation='softmax')(output)\n",
    "    m_vgg = Model(base_model.input, output)\n",
    "    m_vgg.compile(loss='categorical_crossentropy',\n",
    "          optimizer=SGD(lr=0.0001, momentum=0.9, decay=0.0, nesterov=True),\n",
    "          metrics=['accuracy', 'top_k_categorical_accuracy'])\n",
    "    return m_vgg"
   ]
  },
  {
   "cell_type": "code",
   "execution_count": 54,
   "metadata": {
    "collapsed": true
   },
   "outputs": [],
   "source": [
    "def train_vgg(train_gen, val_gen, n_epochs, n_classes, imgdim, callbacks_bool):\n",
    "    if callbacks_bool:\n",
    "        callbacks_list = [\n",
    "            #ModelCheckpoint(top_model_path, monitor='val_acc', verbose=1, save_best_only=True),\n",
    "            EarlyStopping(monitor='val_loss', patience=3, verbose=1)\n",
    "        ]\n",
    "    else:\n",
    "        callbacks_list = []\n",
    "        \n",
    "    # create model:    \n",
    "    m_vgg = create_vgg(n_classes, imgdim)\n",
    "    \n",
    "    # Begin training:\n",
    "    steps_train_data = train_gen.n//train_gen.batch_size\n",
    "    steps_val_data = val_gen.n//val_gen.batch_size\n",
    "    trained_vgg = m_vgg.fit_generator(train_gen,\n",
    "                                       steps_per_epoch=steps_train_data,\n",
    "                                       epochs=n_epochs,\n",
    "                                       validation_data = val_gen,\n",
    "                                       validation_steps = steps_val_data,\n",
    "                                       callbacks=callbacks_list)\n",
    "    return trained_vgg, m_vgg "
   ]
  },
  {
   "cell_type": "code",
   "execution_count": 55,
   "metadata": {
    "collapsed": false,
    "scrolled": true
   },
   "outputs": [
    {
     "name": "stdout",
     "output_type": "stream",
     "text": [
      "Epoch 1/60\n",
      "500/500 [==============================] - 235s 470ms/step - loss: 3.1005 - acc: 0.4091 - top_k_categorical_accuracy: 0.5380 - val_loss: 2.7992 - val_acc: 0.4135 - val_top_k_categorical_accuracy: 0.5950\n",
      "Epoch 2/60\n",
      "500/500 [==============================] - 234s 468ms/step - loss: 2.6500 - acc: 0.4200 - top_k_categorical_accuracy: 0.6348 - val_loss: 2.5104 - val_acc: 0.4240 - val_top_k_categorical_accuracy: 0.6765\n",
      "Epoch 3/60\n",
      "500/500 [==============================] - 235s 470ms/step - loss: 2.3969 - acc: 0.4449 - top_k_categorical_accuracy: 0.6836 - val_loss: 2.3134 - val_acc: 0.4525 - val_top_k_categorical_accuracy: 0.7020\n",
      "Epoch 4/60\n",
      "500/500 [==============================] - 235s 469ms/step - loss: 2.2194 - acc: 0.4719 - top_k_categorical_accuracy: 0.7230 - val_loss: 2.1848 - val_acc: 0.4865 - val_top_k_categorical_accuracy: 0.7305\n",
      "Epoch 5/60\n",
      "500/500 [==============================] - 235s 470ms/step - loss: 2.0658 - acc: 0.4913 - top_k_categorical_accuracy: 0.7502 - val_loss: 2.1129 - val_acc: 0.4830 - val_top_k_categorical_accuracy: 0.7395\n",
      "Epoch 6/60\n",
      "500/500 [==============================] - 236s 471ms/step - loss: 1.9572 - acc: 0.5131 - top_k_categorical_accuracy: 0.7705 - val_loss: 2.0187 - val_acc: 0.5065 - val_top_k_categorical_accuracy: 0.7595\n",
      "Epoch 7/60\n",
      "500/500 [==============================] - 241s 483ms/step - loss: 1.8666 - acc: 0.5279 - top_k_categorical_accuracy: 0.7909 - val_loss: 2.0058 - val_acc: 0.5075 - val_top_k_categorical_accuracy: 0.7625\n",
      "Epoch 8/60\n",
      "500/500 [==============================] - 235s 469ms/step - loss: 1.7685 - acc: 0.5518 - top_k_categorical_accuracy: 0.8103 - val_loss: 2.0091 - val_acc: 0.5135 - val_top_k_categorical_accuracy: 0.7665\n",
      "Epoch 9/60\n",
      "500/500 [==============================] - 236s 473ms/step - loss: 1.7012 - acc: 0.5590 - top_k_categorical_accuracy: 0.8176 - val_loss: 1.9796 - val_acc: 0.5215 - val_top_k_categorical_accuracy: 0.7715\n",
      "Epoch 10/60\n",
      "500/500 [==============================] - 235s 471ms/step - loss: 1.6092 - acc: 0.5817 - top_k_categorical_accuracy: 0.8366 - val_loss: 1.9592 - val_acc: 0.5260 - val_top_k_categorical_accuracy: 0.7835\n",
      "Epoch 11/60\n",
      "500/500 [==============================] - 235s 469ms/step - loss: 1.5259 - acc: 0.6000 - top_k_categorical_accuracy: 0.8521 - val_loss: 1.9923 - val_acc: 0.5190 - val_top_k_categorical_accuracy: 0.7850\n",
      "Epoch 12/60\n",
      "500/500 [==============================] - 235s 469ms/step - loss: 1.4525 - acc: 0.6126 - top_k_categorical_accuracy: 0.8640 - val_loss: 1.9681 - val_acc: 0.5230 - val_top_k_categorical_accuracy: 0.7795\n",
      "Epoch 13/60\n",
      "500/500 [==============================] - 235s 469ms/step - loss: 1.3555 - acc: 0.6360 - top_k_categorical_accuracy: 0.8789 - val_loss: 2.0029 - val_acc: 0.5210 - val_top_k_categorical_accuracy: 0.7795\n",
      "Epoch 00013: early stopping\n"
     ]
    }
   ],
   "source": [
    "# Same implementation as seen in XCeption case.\n",
    "exists_vgg = len(os.listdir(models_dir_v)) != 0\n",
    "if exists: \n",
    "    model_files = []\n",
    "    for file in os.listdir(models_dir_v):\n",
    "        if file.endswith(\"VGG19.hdf5\"):\n",
    "            model_files.append(file)\n",
    "    latest_file = max(model_files, key=os.path.getctime)\n",
    "    model_vgg = load_model(latest_file)\n",
    "\n",
    "else:\n",
    "    trained_vgg, model_vgg = train_vgg(train_gen, val_gen, 60, number_of_classes, img_width, True)"
   ]
  },
  {
   "cell_type": "code",
   "execution_count": 59,
   "metadata": {
    "collapsed": true
   },
   "outputs": [],
   "source": [
    "model_vgg.save(models_dir_v+'topmodel_VGG19.hdf5')"
   ]
  },
  {
   "cell_type": "code",
   "execution_count": 56,
   "metadata": {
    "collapsed": false
   },
   "outputs": [
    {
     "data": {
      "image/png": "[encoded data removed]",
      "text/plain": [
       "<matplotlib.figure.Figure at 0x7f7652f0ad50>"
      ]
     },
     "metadata": {
      "needs_background": "light"
     },
     "output_type": "display_data"
    }
   ],
   "source": [
    "plot_loss_accuracy(trained_vgg, 'VGG19')"
   ]
  },
  {
   "cell_type": "markdown",
   "metadata": {},
   "source": [
    "#### Evaluation:"
   ]
  },
  {
   "cell_type": "code",
   "execution_count": 57,
   "metadata": {
    "collapsed": false
   },
   "outputs": [
    {
     "name": "stdout",
     "output_type": "stream",
     "text": [
      "5000/5000 [==============================] - 45s 9ms/step\n",
      "('VGG19 V1 Test loss:', 9.991571139526368)\n",
      "('VGG19 V1 Top-1 Accuracy:', 0.365)\n",
      "('VGG19 V1 Top-5 Accuracy:', 0.9256)\n"
     ]
    }
   ],
   "source": [
    "score = model_vgg.evaluate(x_val, y_val, verbose=1)\n",
    "print('VGG19 V1 Test loss:', score[0])\n",
    "print('VGG19 V1 Top-1 Accuracy:', score[1])\n",
    "print('VGG19 V1 Top-5 Accuracy:', score[2])"
   ]
  },
  {
   "cell_type": "markdown",
   "metadata": {},
   "source": [
    "### Conclusions"
   ]
  },
  {
   "cell_type": "markdown",
   "metadata": {},
   "source": [
    "The Xception V1 and VGG19 models both achieved similar evaulation results but there are some notable differences. The Xception model actually had worse results, but the model did not converge, meaning the optimizer we used was a bit too slow so additional tuning is required to speed up the learning process. Despite this, Xception achieved 30% Top-1 accuracy and 87% Top-5 accuracy with a test loss of around 11. This is respectable since the training set consists of only around 8,000 images, and there are 91 classes to identitfy and predict on. With only 8,000 classes images, not all the categories may even be exposed to the model. If Xception was able to converge, it should in theory out perform VGG19. Notable training time difference however, time per step was longer by almost 200ms, and the overall time per epoch was a minute slower. This is due to the underlying architecture of Xception, as it uses depthwise sepereable convolutions which require more computation as they 'decouple spatial and cross-channel correlations entirely' [*François Chollet*]. Additionally, there pointwise convolutions involved (1x1 kernels) which can be computationally taxing if the input dimension is still large. \n",
    "\n",
    "The VGG19 model achieved 36% Top-1 accuracy, 93% Top-5 accuracy and had a test loss around 10 with early stopping occuring at 12 epoch. The model trained very quickly, so the learning rate was sufficient to ensure convergence, but perhaps the learning process was too quick? We could retune the hyperparameters or choose another optimizer to see if a slower learning rate would help any gains in accuracy. Despite the 19 weight-based training blocks, VGG19 was faster to train over each step and epoch. \n",
    "\n",
    "The results are not entired conclusive, as we would need to see Xception converge to make note of a true test accuracy and loss, but the two models performed well on the data set, with VGG19 showing better results with faster learning using the same optimizer."
   ]
  },
  {
   "cell_type": "markdown",
   "metadata": {},
   "source": [
    "*Please refer to our related paper for more in-depth comaprison and methodology.*"
   ]
  }
 ],
 "metadata": {
  "kernelspec": {
   "display_name": "Python 3",
   "language": "python",
   "name": "python3"
  },
  "language_info": {
   "codemirror_mode": {
    "name": "ipython",
    "version": 2
   },
   "file_extension": ".py",
   "mimetype": "text/x-python",
   "name": "python",
   "nbconvert_exporter": "python",
   "pygments_lexer": "ipython2",
   "version": "2.7.12"
  }
 },
 "nbformat": 4,
 "nbformat_minor": 0
}
